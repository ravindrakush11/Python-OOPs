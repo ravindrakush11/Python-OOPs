{
 "cells": [
  {
   "cell_type": "markdown",
   "id": "e7ab216c-6dac-4496-bf1e-ff2204bc0be4",
   "metadata": {},
   "source": [
    "# 🟢 Basic Functions\n",
    "## 1. Function Definition and Calling\n",
    "\n",
    "A function in Python is a reusable block of code that performs a specific task.\n",
    "\n"
   ]
  },
  {
   "cell_type": "code",
   "execution_count": 1,
   "id": "8dddf09e-cb17-497b-9183-be3d1b96037a",
   "metadata": {},
   "outputs": [
    {
     "name": "stdout",
     "output_type": "stream",
     "text": [
      "Hello World!\n"
     ]
    }
   ],
   "source": [
    "def greet():\n",
    "    print(\"Hello World!\")\n",
    "\n",
    "greet()"
   ]
  },
  {
   "cell_type": "markdown",
   "id": "c6fef896-7306-4f10-b1b1-832697fe435c",
   "metadata": {},
   "source": [
    "## 2. Function with Parameters"
   ]
  },
  {
   "cell_type": "code",
   "execution_count": 2,
   "id": "19de0206-6fdb-490f-9817-b55b526cda30",
   "metadata": {},
   "outputs": [
    {
     "name": "stdout",
     "output_type": "stream",
     "text": [
      "Hello, Alice\n"
     ]
    }
   ],
   "source": [
    "def greet(name):\n",
    "    print(f\"Hello, {name}\")\n",
    "\n",
    "greet('Alice')"
   ]
  },
  {
   "cell_type": "markdown",
   "id": "1f0dedbd-e8c2-4183-bb10-969fe6bbdaa8",
   "metadata": {},
   "source": [
    "## 3. Function with Return Value"
   ]
  },
  {
   "cell_type": "code",
   "execution_count": 3,
   "id": "3f82c834-37c1-4118-accc-5b7fb70c649d",
   "metadata": {},
   "outputs": [
    {
     "name": "stdout",
     "output_type": "stream",
     "text": [
      "7\n"
     ]
    }
   ],
   "source": [
    "def add(a, b):\n",
    "    return a+b\n",
    "\n",
    "result = add(3, 4)\n",
    "print(result)"
   ]
  },
  {
   "cell_type": "markdown",
   "id": "d77734dd-841b-4bf5-ba5c-31edfdba1ea5",
   "metadata": {},
   "source": [
    "## 🟡 Intermediate Functions\n",
    "### 4. Default Parameters"
   ]
  },
  {
   "cell_type": "code",
   "execution_count": 4,
   "id": "bffd26b2-afdf-493f-8eac-a616dabd2d20",
   "metadata": {},
   "outputs": [
    {
     "name": "stdout",
     "output_type": "stream",
     "text": [
      "Hello, Guest!\n",
      "Hello, David!\n"
     ]
    }
   ],
   "source": [
    "def greet(name = \"Guest\"):\n",
    "    print(f\"Hello, {name}!\")\n",
    "\n",
    "greet()\n",
    "greet('David')"
   ]
  },
  {
   "cell_type": "markdown",
   "id": "affd9fc0-2c1f-4204-850f-0212b060d127",
   "metadata": {},
   "source": [
    "### 5. Keyword Arguments"
   ]
  },
  {
   "cell_type": "code",
   "execution_count": 5,
   "id": "bab93971-2330-4c4f-9dbd-b83d98dc5b90",
   "metadata": {},
   "outputs": [
    {
     "name": "stdout",
     "output_type": "stream",
     "text": [
      "Buddy is a do.\n"
     ]
    }
   ],
   "source": [
    "def describe_pet(animal, name):\n",
    "    print(f\"{name} is a {animal}.\")\n",
    "\n",
    "describe_pet(name = \"Buddy\", animal = \"do\")"
   ]
  },
  {
   "cell_type": "markdown",
   "id": "6755ab4b-282b-490e-acca-7a5913f89776",
   "metadata": {},
   "source": [
    "### 6. Variable-Length Arguments"
   ]
  },
  {
   "cell_type": "code",
   "execution_count": 6,
   "id": "62bd2af4-3132-4103-b811-5b304b5812d9",
   "metadata": {},
   "outputs": [
    {
     "name": "stdout",
     "output_type": "stream",
     "text": [
      "21\n"
     ]
    }
   ],
   "source": [
    "def add_all(*numbers):\n",
    "    return sum(numbers)\n",
    "\n",
    "print(add_all(1,2,3,4,5,6))"
   ]
  },
  {
   "cell_type": "markdown",
   "id": "26cd8e8f-8ff6-4863-a4fe-65f260ee0bce",
   "metadata": {},
   "source": [
    "### 7. Variable-Length Keyword Arguments"
   ]
  },
  {
   "cell_type": "code",
   "execution_count": 7,
   "id": "45ea8402-374e-4ddc-a75c-d250559144c2",
   "metadata": {},
   "outputs": [
    {
     "name": "stdout",
     "output_type": "stream",
     "text": [
      "name : Alice\n",
      "age : 30\n"
     ]
    }
   ],
   "source": [
    "def print_user_info(**info):\n",
    "    for key, value in info.items():\n",
    "        print(f\"{key} : {value}\")\n",
    "\n",
    "print_user_info(name='Alice', age = 30)"
   ]
  },
  {
   "cell_type": "markdown",
   "id": "06c978da-d0aa-4b1e-b47d-8a51842a9774",
   "metadata": {},
   "source": [
    "### 8. Functions as First-Class Objects"
   ]
  },
  {
   "cell_type": "code",
   "execution_count": 8,
   "id": "37919aeb-27e6-4e66-882d-94b693147606",
   "metadata": {},
   "outputs": [
    {
     "name": "stdout",
     "output_type": "stream",
     "text": [
      "HELLO\n",
      "hello\n"
     ]
    }
   ],
   "source": [
    "def shout(text):\n",
    "    return text.upper()\n",
    "\n",
    "def whisper(text):\n",
    "    return text.lower()\n",
    "\n",
    "def greet(func):\n",
    "    print(func(\"Hello\"))\n",
    "\n",
    "greet(shout)\n",
    "greet(whisper)"
   ]
  },
  {
   "cell_type": "markdown",
   "id": "210c78d8-3e6a-4455-aba3-571ffcde509d",
   "metadata": {},
   "source": [
    "## 🔵 Advanced Functions\n",
    "### 9. Nested Functions"
   ]
  },
  {
   "cell_type": "code",
   "execution_count": 9,
   "id": "77286fb7-3516-4cc5-8e7c-dcb9fbe906d1",
   "metadata": {},
   "outputs": [
    {
     "name": "stdout",
     "output_type": "stream",
     "text": [
      "This is inner function.\n"
     ]
    }
   ],
   "source": [
    "def outer():\n",
    "    def inner():\n",
    "        print(\"This is inner function.\")\n",
    "    inner()\n",
    "\n",
    "outer()"
   ]
  },
  {
   "cell_type": "markdown",
   "id": "f9f71015-c50e-4675-807a-9655cf104514",
   "metadata": {},
   "source": [
    "### 10. Returning a Function"
   ]
  },
  {
   "cell_type": "code",
   "execution_count": 10,
   "id": "5e43c30c-4acb-4895-a02e-21bf42797265",
   "metadata": {},
   "outputs": [
    {
     "name": "stdout",
     "output_type": "stream",
     "text": [
      "10\n"
     ]
    }
   ],
   "source": [
    "def make_multiplier(x):\n",
    "    def multiplier(n):\n",
    "        return x*n\n",
    "    return multiplier\n",
    "\n",
    "double = make_multiplier(2)\n",
    "print(double(5))"
   ]
  },
  {
   "cell_type": "markdown",
   "id": "e127365a-5fee-4c78-bad3-73d444199ad9",
   "metadata": {},
   "source": [
    "### 11. Lambda (Anonymous Functions)"
   ]
  },
  {
   "cell_type": "code",
   "execution_count": 11,
   "id": "fbb9a652-9cd1-4231-b339-e1c044cf61ce",
   "metadata": {},
   "outputs": [
    {
     "name": "stdout",
     "output_type": "stream",
     "text": [
      "[1, 4, 9, 16]\n",
      "[2, 4]\n",
      "10\n"
     ]
    }
   ],
   "source": [
    "from functools import reduce\n",
    "\n",
    "nums = [1,2,3,4]\n",
    "\n",
    "squares = list(map(lambda x: x*x, nums))\n",
    "evens = list(filter(lambda x: x%2==0, nums))\n",
    "sum_all = reduce(lambda x, y: x+y, nums)\n",
    "\n",
    "print(squares)\n",
    "print(evens)\n",
    "print(sum_all)"
   ]
  },
  {
   "cell_type": "markdown",
   "id": "0ff36c5e-fd2c-4ff2-a9ba-2dca2f041bf1",
   "metadata": {},
   "source": [
    "### 13. Decorators"
   ]
  },
  {
   "cell_type": "code",
   "execution_count": 12,
   "id": "a6d5fd9d-f358-4534-ba9a-5e31a3eb610f",
   "metadata": {},
   "outputs": [
    {
     "name": "stdout",
     "output_type": "stream",
     "text": [
      "Calling say_hello\n",
      "Hello!\n"
     ]
    }
   ],
   "source": [
    "def debug(func):\n",
    "    def wrapper(*args, **kwargs):\n",
    "        print(f\"Calling {func.__name__}\")\n",
    "        return func(*args, **kwargs)\n",
    "    return wrapper\n",
    "\n",
    "@debug\n",
    "def say_hello():\n",
    "    print(\"Hello!\")\n",
    "\n",
    "say_hello()"
   ]
  },
  {
   "cell_type": "markdown",
   "id": "e14c840b-23c3-431b-a20c-61b246736f36",
   "metadata": {},
   "source": [
    "### 14. Recursion"
   ]
  },
  {
   "cell_type": "code",
   "execution_count": 13,
   "id": "a1ecd784-eada-41ae-ab97-175886bae5e4",
   "metadata": {},
   "outputs": [
    {
     "name": "stdout",
     "output_type": "stream",
     "text": [
      "120\n"
     ]
    }
   ],
   "source": [
    "def factorial(n):\n",
    "    if n==1:\n",
    "        return 1\n",
    "    return n * factorial(n-1)\n",
    "\n",
    "print(factorial(5))"
   ]
  },
  {
   "cell_type": "code",
   "execution_count": 14,
   "id": "1cd7fdad-17e1-4b1a-9425-522ec03f99ef",
   "metadata": {},
   "outputs": [
    {
     "name": "stdout",
     "output_type": "stream",
     "text": [
      "120\n"
     ]
    }
   ],
   "source": [
    "def factorial(n):\n",
    "    if n == 1:\n",
    "        return 1\n",
    "    return n * factorial(n - 1)\n",
    "\n",
    "print(factorial(5))  # 120\n"
   ]
  },
  {
   "cell_type": "markdown",
   "id": "b8430b2e-4040-415e-955e-771d4ec0d08a",
   "metadata": {},
   "source": [
    "## ✅ Covered So Far\n",
    "| Category                   | Examples Included                     |\n",
    "| -------------------------- | ------------------------------------- |\n",
    "| Basic Functions            | `def`, return values, parameters      |\n",
    "| Default/Keyword Args       | Default values, keyword usage         |\n",
    "| Variable-Length Args       | `*args`, `**kwargs`                   |\n",
    "| First-Class Functions      | Passing functions as arguments        |\n",
    "| Higher-Order Functions     | `map`, `filter`, `reduce`             |\n",
    "| Lambda                     | Anonymous functions                   |\n",
    "| Closures & Inner Functions | Nested functions, returning functions |\n",
    "| Decorators                 | Function wrappers                     |\n",
    "| Recursion                  | Factorial example                     |\n"
   ]
  },
  {
   "cell_type": "code",
   "execution_count": null,
   "id": "0928f5c1-5523-4640-8295-8c67e1a183c8",
   "metadata": {},
   "outputs": [],
   "source": []
  },
  {
   "cell_type": "markdown",
   "id": "10377150-b571-4dfa-aad5-20c8c545c197",
   "metadata": {},
   "source": [
    "## 🧩 Not Yet Covered (Can be added if needed)\n",
    "| Category                          | Description                                                 |\n",
    "| --------------------------------- | ----------------------------------------------------------- |\n",
    "| **Partial Functions**             | Using `functools.partial` to fix a function's arguments     |\n",
    "| **Generator Functions**           | Using `yield` to return iterators lazily                    |\n",
    "| **Async Functions**               | `async def`, `await`, for concurrency                       |\n",
    "| **Callable Classes (`__call__`)** | Making a class behave like a function                       |\n",
    "| **Function Annotations**          | Adding type hints to function parameters and return types   |\n",
    "| **Function Introspection**        | Accessing function attributes (`__name__`, `__doc__`, etc.) |\n",
    "| **Currying**                      | Creating multi-step functions (usually with closures)       |\n"
   ]
  },
  {
   "cell_type": "code",
   "execution_count": null,
   "id": "67f498e9-4c2d-48e6-a278-a0718fb4145b",
   "metadata": {},
   "outputs": [],
   "source": []
  }
 ],
 "metadata": {
  "kernelspec": {
   "display_name": "Python 3 (ipykernel)",
   "language": "python",
   "name": "python3"
  },
  "language_info": {
   "codemirror_mode": {
    "name": "ipython",
    "version": 3
   },
   "file_extension": ".py",
   "mimetype": "text/x-python",
   "name": "python",
   "nbconvert_exporter": "python",
   "pygments_lexer": "ipython3",
   "version": "3.10.11"
  }
 },
 "nbformat": 4,
 "nbformat_minor": 5
}
