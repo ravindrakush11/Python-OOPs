{
 "cells": [
  {
   "cell_type": "markdown",
   "id": "2720bbdc-c9dc-4aca-867b-50bdaa06a827",
   "metadata": {},
   "source": [
    "Object-oriented programming (OOP):->> grouping related data and behaviors into objects.\n",
    "classes act as blueprints, from these blueprints we create objects.\n",
    "\n",
    "Object-oriented programming in Python involves creating **classes as blueprints** for *objects*. These objects contain **data and the methods** needed to manipulate that data.\n",
    "\n",
    "**The four key concepts of OOP in Python**  encapsulation, inheritance, abstraction, and polymorphism.\n",
    "\n",
    "use **super()** in Python to call a method from the *parent class*, allowing you to extend or modify inherited behavior.\n"
   ]
  },
  {
   "cell_type": "code",
   "execution_count": null,
   "id": "c6f10563-b93b-4e2b-96f3-a8122867bf33",
   "metadata": {},
   "outputs": [],
   "source": []
  },
  {
   "cell_type": "markdown",
   "id": "2549f5da-ef56-498e-a7bf-164df922d302",
   "metadata": {},
   "source": [
    "## Define a Class in Python"
   ]
  },
  {
   "cell_type": "code",
   "execution_count": 1,
   "id": "6f09933c-b8fe-46b6-b296-2f2a1ebab36e",
   "metadata": {},
   "outputs": [],
   "source": [
    "class Employee:\n",
    "    def __init__(self, name, age):\n",
    "        self.name = name\n",
    "        self.age = age"
   ]
  },
  {
   "cell_type": "markdown",
   "id": "1b27f492-9d68-4ab0-824a-57ba5cf50bed",
   "metadata": {},
   "source": [
    "### Classes vs Instances\n",
    "\n",
    "***A class is a blueprint for how to define something. It doesn’t actually contain any data.** The Dog class specifies that a name and an age are necessary for defining a dog, but it doesn’t contain the name or age of any specific dog.\n",
    "\n",
    "While the class is the blueprint, an **instance** is an object that’s built from a class and contains real data.\n",
    "\n",
    "Put another way, a class is like a form or questionnaire. An instance is like a form that you’ve filled out with information."
   ]
  },
  {
   "cell_type": "code",
   "execution_count": 1,
   "id": "72ea7b8c-0d65-4ee5-b750-9823131056e9",
   "metadata": {},
   "outputs": [],
   "source": [
    "class Dog:\n",
    "    pass"
   ]
  },
  {
   "cell_type": "code",
   "execution_count": null,
   "id": "710988cf-5d5c-4798-8fff-084ba99892c8",
   "metadata": {},
   "outputs": [],
   "source": []
  },
  {
   "cell_type": "code",
   "execution_count": null,
   "id": "f93de3f4-4c38-40c5-97d1-bddb56f696c3",
   "metadata": {},
   "outputs": [],
   "source": []
  },
  {
   "cell_type": "code",
   "execution_count": null,
   "id": "9934c196-803e-4d12-a3e2-a091bf9d4b49",
   "metadata": {},
   "outputs": [],
   "source": []
  },
  {
   "cell_type": "code",
   "execution_count": null,
   "id": "f5944886-2adc-4a04-9e05-f7e434507ac2",
   "metadata": {},
   "outputs": [],
   "source": []
  },
  {
   "cell_type": "code",
   "execution_count": null,
   "id": "aff2d4db-e5d8-4726-b949-ba3034f012e6",
   "metadata": {},
   "outputs": [],
   "source": []
  }
 ],
 "metadata": {
  "kernelspec": {
   "display_name": "Python 3 (ipykernel)",
   "language": "python",
   "name": "python3"
  },
  "language_info": {
   "codemirror_mode": {
    "name": "ipython",
    "version": 3
   },
   "file_extension": ".py",
   "mimetype": "text/x-python",
   "name": "python",
   "nbconvert_exporter": "python",
   "pygments_lexer": "ipython3",
   "version": "3.10.11"
  }
 },
 "nbformat": 4,
 "nbformat_minor": 5
}
