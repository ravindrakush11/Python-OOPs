{
 "cells": [
  {
   "cell_type": "markdown",
   "id": "2720bbdc-c9dc-4aca-867b-50bdaa06a827",
   "metadata": {},
   "source": [
    "Object-oriented programming (OOP):->> grouping related data and behaviors into objects.\n",
    "classes act as blueprints, from these blueprints we create objects.\n",
    "\n",
    "Object-oriented programming in Python involves creating **classes as blueprints** for *objects*. These objects contain **data and the methods** needed to manipulate that data.\n",
    "\n",
    "**The four key concepts of OOP in Python**  encapsulation, inheritance, abstraction, and polymorphism.\n",
    "\n",
    "use **super()** in Python to call a method from the *parent class*, allowing you to extend or modify inherited behavior.\n"
   ]
  },
  {
   "cell_type": "code",
   "execution_count": null,
   "id": "c6f10563-b93b-4e2b-96f3-a8122867bf33",
   "metadata": {},
   "outputs": [],
   "source": []
  },
  {
   "cell_type": "markdown",
   "id": "2549f5da-ef56-498e-a7bf-164df922d302",
   "metadata": {},
   "source": [
    "## Define a Class in Python"
   ]
  },
  {
   "cell_type": "code",
   "execution_count": 1,
   "id": "6f09933c-b8fe-46b6-b296-2f2a1ebab36e",
   "metadata": {},
   "outputs": [],
   "source": [
    "class Employee:\n",
    "    def __init__(self, name, age):\n",
    "        self.name = name\n",
    "        self.age = age"
   ]
  }
 ],
 "metadata": {
  "kernelspec": {
   "display_name": "Python 3 (ipykernel)",
   "language": "python",
   "name": "python3"
  },
  "language_info": {
   "codemirror_mode": {
    "name": "ipython",
    "version": 3
   },
   "file_extension": ".py",
   "mimetype": "text/x-python",
   "name": "python",
   "nbconvert_exporter": "python",
   "pygments_lexer": "ipython3",
   "version": "3.10.11"
  }
 },
 "nbformat": 4,
 "nbformat_minor": 5
}
