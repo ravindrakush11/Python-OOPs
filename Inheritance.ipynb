{
 "cells": [
  {
   "cell_type": "markdown",
   "id": "1eb96efe-533d-4ec0-8bab-e34c80689881",
   "metadata": {},
   "source": [
    "# Inheritance"
   ]
  },
  {
   "cell_type": "code",
   "execution_count": null,
   "id": "7b2be15d-16aa-40d9-b1b2-e41aca77dbf2",
   "metadata": {},
   "outputs": [],
   "source": [
    "class Parent:\n",
    "    # parent class\n",
    "    def greet(self):\n",
    "        print(\"Hello from Parent!\")\n",
    "\n",
    "class Child(Parent):\n",
    "    # child class inheriting from Parent\n",
    "    def say_hi(self):\n",
    "        print(\"Hi from Child!\")\n",
    "\n",
    "c = Child()\n",
    "c.greet()   # Inherited method from Parent\n",
    "c.say_hi()  # Child's own method"
   ]
  },
  {
   "cell_type": "code",
   "execution_count": null,
   "id": "c3507acb-8e38-460c-a149-3573a8638b4f",
   "metadata": {},
   "outputs": [],
   "source": [
    "# Multilevel Inheritance\n",
    "class A:\n",
    "    def showA(self):\n",
    "        print(\"A\")\n",
    "\n",
    "class B(A):\n",
    "    def showB(self):\n",
    "        print(\"B\")\n",
    "\n",
    "class C(B):\n",
    "    def showC(self):\n",
    "        print(\"C\")\n",
    "\n",
    "obj = C()\n",
    "obj.showA()\n",
    "obj.showB()\n",
    "obj.showC()"
   ]
  },
  {
   "cell_type": "markdown",
   "id": "6398684a-deab-48e9-adec-7d2160c90160",
   "metadata": {},
   "source": [
    "## ✅ super() Keyword\n",
    "\n",
    "Used to call the parent class's methods or constructor.\n"
   ]
  },
  {
   "cell_type": "code",
   "execution_count": null,
   "id": "61defeaa-700a-49a6-b2e7-d813dc9708f7",
   "metadata": {},
   "outputs": [],
   "source": [
    "class A:\n",
    "    def __init__(self):\n",
    "        print(\"A__init__\")\n",
    "\n",
    "class B(A):\n",
    "    def __init__(self):\n",
    "        print(\"B__init__\")\n",
    "        super().__init__()\n",
    "\n",
    "class C(B):\n",
    "    def __init__(self):\n",
    "        print(\"C__init__\")\n",
    "        super().__init__()\n",
    "\n",
    "c = C()\n",
    "c.name()\n",
    "\n",
    "# Output:----\n",
    "# C__init__\n",
    "# B__init__\n",
    "# A__init__"
   ]
  },
  {
   "cell_type": "markdown",
   "id": "1418f5a2-7c8e-4c68-8d2e-9383481116c1",
   "metadata": {},
   "source": [
    "You're doing great! Now that you've updated the code to a **single inheritance chain**: `C → B → A`, this is a perfect example to fully understand how `super()` works in a step-by-step manner.\n",
    "\n",
    "Let’s go line by line and explain the entire behavior:\n",
    "\n",
    "---\n",
    "\n",
    "## ✅ Your Code:\n",
    "\n",
    "```python\n",
    "class A:\n",
    "    def __init__(self):\n",
    "        print(\"A __init__\")\n",
    "```\n",
    "\n",
    "### 🔍 What this does:\n",
    "\n",
    "* Defines **class A**, the base class.\n",
    "* It has an `__init__()` method that prints `\"A __init__\"` when an object of A (or any subclass that calls it) is created.\n",
    "\n",
    "---\n",
    "\n",
    "```python\n",
    "class B(A):\n",
    "    def __init__(self):\n",
    "        print(\"B __init__\")\n",
    "        super().__init__()\n",
    "```\n",
    "\n",
    "### 🔍 What this does:\n",
    "\n",
    "* **B inherits from A** → so B gets all attributes and methods of A.\n",
    "* `__init__()` in B:\n",
    "\n",
    "  * First, prints `\"B __init__\"`.\n",
    "  * Then `super().__init__()` is called:\n",
    "\n",
    "    * `super()` refers to **the next class in the MRO** (Method Resolution Order), which is `A`.\n",
    "    * So it runs `A.__init__()` and prints `\"A __init__\"`.\n",
    "\n",
    "---\n",
    "\n",
    "### 🧠 What does `super()` mean here?\n",
    "\n",
    "* `super()` returns a temporary **proxy object** (a helper) that represents the **parent class (A)**.\n",
    "* So `super().__init__()` means:\n",
    "\n",
    "  > \"Go to my parent class (`A` in this case), and call its `__init__()` method.\"\n",
    "\n",
    "Think of it as:\n",
    "\n",
    "```python\n",
    "A.__init__(self)\n",
    "```\n",
    "\n",
    "—but written in a smarter, more flexible way.\n",
    "\n",
    "---\n",
    "\n",
    "```python\n",
    "class C(B):\n",
    "    def __init__(self):\n",
    "        print(\"C __init__\")\n",
    "        super().__init__()\n",
    "```\n",
    "\n",
    "### 🔍 What this does:\n",
    "\n",
    "* **C inherits from B**, and **indirectly from A** (because B already inherits A).\n",
    "* `__init__()` in C:\n",
    "\n",
    "  * First, prints `\"C __init__\"`.\n",
    "  * Then `super().__init__()` is called:\n",
    "\n",
    "    * `super()` refers to the next class in MRO → which is `B`, so `B.__init__()` is called.\n",
    "    * Inside `B.__init__()`, another `super().__init__()` is called → which now refers to A and runs `A.__init__()`.\n",
    "\n",
    "---\n",
    "\n",
    "### ✅ Finally, this line runs:\n",
    "\n",
    "```python\n",
    "obj = C()\n",
    "```\n",
    "\n",
    "### 🔍 Step-by-step execution:\n",
    "\n",
    "1. `C()` is called → triggers `C.__init__()`\n",
    "\n",
    "   * Prints: `C __init__`\n",
    "   * Calls: `super().__init__()` → goes to B\n",
    "\n",
    "2. `B.__init__()` runs\n",
    "\n",
    "   * Prints: `B __init__`\n",
    "   * Calls: `super().__init__()` → goes to A\n",
    "\n",
    "3. `A.__init__()` runs\n",
    "\n",
    "   * Prints: `A __init__`\n",
    "\n",
    "---\n",
    "\n",
    "### ✅ Final Output:\n",
    "\n",
    "```\n",
    "C __init__\n",
    "B __init__\n",
    "A __init__\n",
    "```\n",
    "\n",
    "---\n",
    "\n",
    "### 🧠 Deep Understanding of `super()`\n",
    "\n",
    "Let’s inspect the **Method Resolution Order (MRO)** for class `C`:\n",
    "\n",
    "```python\n",
    "print(C.__mro__)\n",
    "```\n",
    "\n",
    "This will give:\n",
    "\n",
    "```\n",
    "(<class '__main__.C'>, <class '__main__.B'>, <class '__main__.A'>, <class 'object'>)\n",
    "```\n",
    "\n",
    "This is the order in which Python will search for methods using `super()`:\n",
    "\n",
    "1. C\n",
    "2. B\n",
    "3. A\n",
    "4. object (the root of all classes in Python)\n",
    "\n",
    "So every `super().__init__()` call:\n",
    "\n",
    "* Just means: “Call the **next** class in the MRO that has an `__init__` method.”\n",
    "\n",
    "---\n",
    "<!-- \n",
    "### ❓Why not just call B/A directly?\n",
    "\n",
    "```python\n",
    "class C(B):\n",
    "    def __init__(self):\n",
    "        print(\"C __init__\")\n",
    "        B.__init__(self)  # BAD practice here\n",
    "```\n",
    "\n",
    "#### Problem:\n",
    "\n",
    "* If class hierarchy changes (e.g., you make C inherit from something else), you’ll have to change the constructor call too.\n",
    "* This breaks the chain and MRO.\n",
    "* It doesn’t allow Python to smartly manage multiple inheritance or future changes. -->\n",
    "\n",
    "---\n",
    "\n",
    "### ✅ Summary Table\n",
    "\n",
    "| Class | `__init__()` prints | `super().__init__()` calls |\n",
    "| ----- | ------------------- | -------------------------- |\n",
    "| A     | `\"A __init__\"`      | (no parent to call)        |\n",
    "| B     | `\"B __init__\"`      | Calls A                    |\n",
    "| C     | `\"C __init__\"`      | Calls B                    |\n",
    "\n",
    "---"
   ]
  },
  {
   "cell_type": "code",
   "execution_count": null,
   "id": "60dd9882-09ce-40e1-ab80-172748264cef",
   "metadata": {},
   "outputs": [],
   "source": []
  },
  {
   "cell_type": "markdown",
   "id": "9f510264-064b-4daf-8f0a-8b5ab5867b08",
   "metadata": {},
   "source": [
    "\n",
    "---\n",
    "\n",
    "### ✅ Code:\n",
    "\n",
    "```python\n",
    "class A:\n",
    "    def __init__(self):\n",
    "        print(\"A __init__\")\n",
    "```\n",
    "\n",
    "### 🔍 Explanation:\n",
    "\n",
    "* This defines **class A**.\n",
    "* `__init__()` is the **constructor method**.\n",
    "* When you create an object of class A (like `A()`), this method runs and prints `\"A __init__\"`.\n",
    "\n",
    "---\n",
    "\n",
    "### ✅ Code:\n",
    "\n",
    "```python\n",
    "class B(A):\n",
    "    def __init__(self):\n",
    "        print(\"B __init__\")\n",
    "        super().__init__()\n",
    "```\n",
    "\n",
    "### 🔍 Explanation:\n",
    "\n",
    "* This defines **class B**, which **inherits** from class A → `class B(A)`.\n",
    "* So, B is a **child class**, and A is the **parent**.\n",
    "* Inside `B.__init__`, it first prints `\"B __init__\"`.\n",
    "* Then, it calls `super().__init__()`.\n",
    "\n",
    "Now here is where many people get confused, so let me **slow it down**:\n",
    "\n",
    "---\n",
    "\n",
    "### 🧠 What does `super()` mean here?\n",
    "\n",
    "* `super()` returns a temporary **proxy object** (a helper) that represents the **parent class (A)**.\n",
    "* So `super().__init__()` means:\n",
    "\n",
    "  > \"Go to my parent class (`A` in this case), and call its `__init__()` method.\"\n",
    "\n",
    "Think of it as:\n",
    "\n",
    "```python\n",
    "A.__init__(self)\n",
    "```\n",
    "\n",
    "—but written in a smarter, more flexible way.\n",
    "\n",
    "---\n",
    "\n",
    "### ✅ Code:\n",
    "\n",
    "```python\n",
    "class C(A):\n",
    "    def __init__(self):\n",
    "        print(\"C __init__\")\n",
    "        super().__init__()\n",
    "```\n",
    "\n",
    "### 🔍 Explanation:\n",
    "\n",
    "* Same as B, class **C inherits from A**.\n",
    "* Its `__init__()` method first prints `\"C __init__\"`, then calls `super().__init__()` — which again means:\n",
    "\n",
    "  > \"Go to class A (my parent), and run its constructor.\"\n",
    "\n",
    "---\n",
    "\n",
    "### ✅ Code:\n",
    "\n",
    "```python\n",
    "obj = C()\n",
    "```\n",
    "\n",
    "### 🔍 What happens when this line runs?\n",
    "\n",
    "1. Python sees that you're creating an object of class `C`.\n",
    "2. It runs the `__init__` method of class `C`:\n",
    "\n",
    "   * Prints `\"C __init__\"`\n",
    "   * Calls `super().__init__()` → goes to A's `__init__`\n",
    "   * Prints `\"A __init__\"`\n",
    "\n",
    "---\n",
    "\n",
    "### ✅ Final Output:\n",
    "\n",
    "```\n",
    "C __init__\n",
    "A __init__\n",
    "```\n",
    "\n",
    "---\n",
    "\n",
    "### 💡 Summary\n",
    "\n",
    "| Line         | What it does                                                                          |\n",
    "| ------------ | ------------------------------------------------------------------------------------- |\n",
    "| `class A`    | Base class with its own constructor                                                   |\n",
    "| `class B(A)` | Child class of A, adds its own message, then calls A's constructor using `super()`    |\n",
    "| `class C(A)` | Same idea: inherits from A, uses `super()` to extend initialization                   |\n",
    "| `obj = C()`  | Triggers the constructor of C, which then uses `super()` to also call A's constructor |\n",
    "\n",
    "---\n",
    "\n",
    "### 🧠 Why use `super()` instead of `A.__init__(self)`?\n",
    "\n",
    "* It’s **cleaner and more robust**.\n",
    "* In future, if you change the parent class (e.g., C starts inheriting from B instead of A), you **don’t need to change the code** inside the constructor.\n",
    "* `super()` respects **Method Resolution Order (MRO)** when using multiple inheritance — critical in complex class hierarchies.\n",
    "\n",
    "Would you like me to extend this example to multiple inheritance now to show how `super()` handles it smartly?\n"
   ]
  },
  {
   "cell_type": "code",
   "execution_count": null,
   "id": "3970a5f6-16c8-41fd-af83-75013a518113",
   "metadata": {},
   "outputs": [],
   "source": [
    "class Parent:\n",
    "    def __init__(self):\n",
    "        print(\"Parent constructor\")\n",
    "\n",
    "class Child(Parent):\n",
    "    def __init__(self):\n",
    "        super().__init__()  # Call Parent's constructor\n",
    "        print(\"Child constructor\")\n",
    "\n",
    "Child()"
   ]
  },
  {
   "cell_type": "code",
   "execution_count": null,
   "id": "311ccc57-41e2-4d6b-b68f-75308065aa88",
   "metadata": {},
   "outputs": [],
   "source": []
  },
  {
   "cell_type": "markdown",
   "id": "3f85370d-f237-4635-baee-a76030b4e212",
   "metadata": {},
   "source": [
    "\n",
    "\n"
   ]
  },
  {
   "cell_type": "markdown",
   "id": "ad4ba8d4-7ac5-4db1-9934-ec34de428097",
   "metadata": {},
   "source": [
    "## 🧱 1. Basic Inheritance"
   ]
  },
  {
   "cell_type": "code",
   "execution_count": 20,
   "id": "46c79340-3ae1-45a0-adb4-2ec96462ac2a",
   "metadata": {},
   "outputs": [
    {
     "name": "stdout",
     "output_type": "stream",
     "text": [
      "Buddy barks\n"
     ]
    }
   ],
   "source": [
    "class Animal:    # Parent class\n",
    "    def __init__(self, name):\n",
    "        self.name = name\n",
    "\n",
    "    def speak(self):\n",
    "        return f\"{self.name} makes a sound\"\n",
    "\n",
    "class Dog(Animal):    # Child class inherits from Animal\n",
    "    def speak(self):\n",
    "        return f\"{self.name} barks\"\n",
    "\n",
    "dog1 = Dog(\"Buddy\")\n",
    "print(dog1.speak())   # Output: Buddy barks"
   ]
  },
  {
   "cell_type": "markdown",
   "id": "017579d3-a33a-4267-99c0-7e46a8a6878e",
   "metadata": {},
   "source": [
    "## 🔁 2. Using super() to Extend Parent Methods"
   ]
  },
  {
   "cell_type": "code",
   "execution_count": 21,
   "id": "3923424a-d3fe-410d-940a-018a2886e2e2",
   "metadata": {},
   "outputs": [
    {
     "name": "stdout",
     "output_type": "stream",
     "text": [
      "Whiskers meows and is black\n"
     ]
    }
   ],
   "source": [
    "class Animal:\n",
    "    def __init__(self, name):\n",
    "        self.name = name\n",
    "\n",
    "    def speak(self):\n",
    "        return f\"{self.name} makes a sound\"\n",
    "\n",
    "class Cat(Animal):\n",
    "    def __init__(self, name, color):\n",
    "        super().__init__(name)    # Call parent constructor\n",
    "        self.color = color\n",
    "\n",
    "    def speak(self):\n",
    "        return f\"{self.name} meows and is {self.color}\"\n",
    "\n",
    "cat1 = Cat(\"Whiskers\", \"black\")\n",
    "print(cat1.speak())  "
   ]
  },
  {
   "cell_type": "markdown",
   "id": "d9ec8788-26f0-4f4a-88c5-2f8e24acfac5",
   "metadata": {},
   "source": [
    "## 🔄 3. Multilevel Inheritance"
   ]
  },
  {
   "cell_type": "code",
   "execution_count": 22,
   "id": "98d900b0-f025-4239-869b-8c0cb2ecedf5",
   "metadata": {},
   "outputs": [
    {
     "name": "stdout",
     "output_type": "stream",
     "text": [
      "Breathing...\n",
      "Moving...\n",
      "Barks\n"
     ]
    }
   ],
   "source": [
    "class LivingBeing:\n",
    "    def breathe(self):\n",
    "        return \"Breathing...\"\n",
    "\n",
    "class Animal(LivingBeing):\n",
    "    def move(self):\n",
    "        return \"Moving...\"\n",
    "\n",
    "class Dog(Animal):\n",
    "    def speak(self):\n",
    "        return \"Barks\"\n",
    "\n",
    "dog = Dog()\n",
    "print(dog.breathe())   # From LivingBeing\n",
    "print(dog.move())    # From Animal\n",
    "print(dog.speak())    # From Dog"
   ]
  },
  {
   "cell_type": "markdown",
   "id": "a474bbcc-0df9-44df-81b9-57465ed07579",
   "metadata": {},
   "source": [
    "## 🔁 4. Multiple Inheritance"
   ]
  },
  {
   "cell_type": "code",
   "execution_count": 23,
   "id": "d41c1ba3-8c71-4478-b243-a45c0ffdbfc7",
   "metadata": {},
   "outputs": [
    {
     "name": "stdout",
     "output_type": "stream",
     "text": [
      "Flying in the sky\n",
      "Swimming in water\n",
      "Quack\n"
     ]
    }
   ],
   "source": [
    "class Flyable:\n",
    "    def fly(self):\n",
    "        return \"Flying in the sky\"\n",
    "\n",
    "class Swimmable:\n",
    "    def swim(self):\n",
    "        return \"Swimming in water\"\n",
    "\n",
    "class Duck(Flyable, Swimmable):\n",
    "    def sound(self):\n",
    "        return \"Quack\"\n",
    "\n",
    "d = Duck()\n",
    "print(d.fly())     # Flying in the sky\n",
    "print(d.swim())     # Swimming in  water\n",
    "print(d.sound())     # Quack"
   ]
  },
  {
   "cell_type": "markdown",
   "id": "274719fe-443a-4d1c-8152-286d6614e8b8",
   "metadata": {},
   "source": [
    "## ⚙️ 5. Method Resolution Order (MRO)"
   ]
  },
  {
   "cell_type": "code",
   "execution_count": 24,
   "id": "154a6a0a-4fd9-429b-b792-555cc9107282",
   "metadata": {},
   "outputs": [
    {
     "name": "stdout",
     "output_type": "stream",
     "text": [
      "B\n",
      "[<class '__main__.D'>, <class '__main__.B'>, <class '__main__.C'>, <class '__main__.A'>, <class 'object'>]\n"
     ]
    }
   ],
   "source": [
    "class A:\n",
    "    def show(self):\n",
    "        return \"A\"\n",
    "\n",
    "class B(A):\n",
    "    def show(self):\n",
    "        return \"B\"\n",
    "\n",
    "class C(A):\n",
    "    def show(self):\n",
    "        return \"C\"\n",
    "\n",
    "class D(B, C):   # Inherits from B first, then C\n",
    "    pass\n",
    "\n",
    "obj = D()\n",
    "print(obj.show())    # Output: B\n",
    "print(D.mro())    # Show the order python resolves methods"
   ]
  },
  {
   "cell_type": "markdown",
   "id": "f5158f63-98eb-4b39-a7ec-2356e9d304ab",
   "metadata": {},
   "source": [
    "## 📌 6. Abstract Classes (using abc module)"
   ]
  },
  {
   "cell_type": "code",
   "execution_count": 25,
   "id": "d6c56905-ac3b-4e2b-8b4e-c0637bc5c043",
   "metadata": {},
   "outputs": [
    {
     "name": "stdout",
     "output_type": "stream",
     "text": [
      "78.5\n"
     ]
    }
   ],
   "source": [
    "from abc import ABC, abstractmethod\n",
    "\n",
    "class Shape(ABC):\n",
    "    @abstractmethod\n",
    "    def area(self):\n",
    "        pass\n",
    "\n",
    "class Circle(Shape):\n",
    "    def __init__(self, radius):\n",
    "        self.radius = radius\n",
    "\n",
    "    def area(self):\n",
    "        return 3.14 * self.radius ** 2\n",
    "\n",
    "# shape = Shape()   # ❌ Error: Can't instantiate abstract class\n",
    "circle = Circle(5)\n",
    "print(circle.area())"
   ]
  },
  {
   "cell_type": "markdown",
   "id": "08303628-9313-4732-bdd7-35d67819274d",
   "metadata": {},
   "source": [
    "## 🔒 7. Private Attributes with Inheritance"
   ]
  },
  {
   "cell_type": "code",
   "execution_count": 26,
   "id": "b40ca392-a401-44c1-b315-11e24a507ee2",
   "metadata": {},
   "outputs": [
    {
     "name": "stdout",
     "output_type": "stream",
     "text": [
      "Name: Alice, Salary: 75000\n"
     ]
    }
   ],
   "source": [
    "class Employee:\n",
    "    def __init__(self, name, salary):\n",
    "        self.name = name\n",
    "        self.__salary = salary   # Private attribute\n",
    "\n",
    "    def get_salary(self):\n",
    "        return self.__salary\n",
    "\n",
    "class Manager(Employee):\n",
    "    def display(self):\n",
    "        return f\"Name: {self.name}, Salary: {self.get_salary()}\"\n",
    "\n",
    "m = Manager(\"Alice\", 75000)\n",
    "print(m.display())   "
   ]
  },
  {
   "cell_type": "code",
   "execution_count": null,
   "id": "b29fd47c-d67a-4004-ab23-748da603a777",
   "metadata": {},
   "outputs": [],
   "source": []
  },
  {
   "cell_type": "code",
   "execution_count": null,
   "id": "b57bdf0c-0c46-4390-99f0-41bd68d6e51b",
   "metadata": {},
   "outputs": [],
   "source": []
  },
  {
   "cell_type": "code",
   "execution_count": null,
   "id": "321b392d-fde0-4da9-a9b2-01d465406ac8",
   "metadata": {},
   "outputs": [],
   "source": []
  },
  {
   "cell_type": "code",
   "execution_count": null,
   "id": "5571b484-5795-4e5c-aec1-8e043d6d533c",
   "metadata": {},
   "outputs": [],
   "source": []
  },
  {
   "cell_type": "code",
   "execution_count": null,
   "id": "94e1cdfe-88a5-4cb2-96ff-55c374d59160",
   "metadata": {},
   "outputs": [],
   "source": []
  },
  {
   "cell_type": "code",
   "execution_count": null,
   "id": "6e444697-a191-4c61-886e-de8c476ad477",
   "metadata": {},
   "outputs": [],
   "source": []
  },
  {
   "cell_type": "code",
   "execution_count": null,
   "id": "ed148166-fbfb-4f65-bb36-d1ceb9e00691",
   "metadata": {},
   "outputs": [],
   "source": []
  }
 ],
 "metadata": {
  "kernelspec": {
   "display_name": "Python 3 (ipykernel)",
   "language": "python",
   "name": "python3"
  },
  "language_info": {
   "codemirror_mode": {
    "name": "ipython",
    "version": 3
   },
   "file_extension": ".py",
   "mimetype": "text/x-python",
   "name": "python",
   "nbconvert_exporter": "python",
   "pygments_lexer": "ipython3",
   "version": "3.10.11"
  }
 },
 "nbformat": 4,
 "nbformat_minor": 5
}
