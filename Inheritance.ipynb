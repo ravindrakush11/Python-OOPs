{
 "cells": [
  {
   "cell_type": "markdown",
   "id": "3f85370d-f237-4635-baee-a76030b4e212",
   "metadata": {},
   "source": [
    "# Inheritance\n",
    "\n",
    "## 🧱 1. Basic Inheritance"
   ]
  },
  {
   "cell_type": "code",
   "execution_count": 20,
   "id": "46c79340-3ae1-45a0-adb4-2ec96462ac2a",
   "metadata": {},
   "outputs": [
    {
     "name": "stdout",
     "output_type": "stream",
     "text": [
      "Buddy barks\n"
     ]
    }
   ],
   "source": [
    "class Animal:    # Parent class\n",
    "    def __init__(self, name):\n",
    "        self.name = name\n",
    "\n",
    "    def speak(self):\n",
    "        return f\"{self.name} makes a sound\"\n",
    "\n",
    "class Dog(Animal):    # Child class inherits from Animal\n",
    "    def speak(self):\n",
    "        return f\"{self.name} barks\"\n",
    "\n",
    "dog1 = Dog(\"Buddy\")\n",
    "print(dog1.speak())   # Output: Buddy barks"
   ]
  },
  {
   "cell_type": "markdown",
   "id": "017579d3-a33a-4267-99c0-7e46a8a6878e",
   "metadata": {},
   "source": [
    "## 🔁 2. Using super() to Extend Parent Methods"
   ]
  },
  {
   "cell_type": "code",
   "execution_count": 21,
   "id": "3923424a-d3fe-410d-940a-018a2886e2e2",
   "metadata": {},
   "outputs": [
    {
     "name": "stdout",
     "output_type": "stream",
     "text": [
      "Whiskers meows and is black\n"
     ]
    }
   ],
   "source": [
    "class Animal:\n",
    "    def __init__(self, name):\n",
    "        self.name = name\n",
    "\n",
    "    def speak(self):\n",
    "        return f\"{self.name} makes a sound\"\n",
    "\n",
    "class Cat(Animal):\n",
    "    def __init__(self, name, color):\n",
    "        super().__init__(name)    # Call parent constructor\n",
    "        self.color = color\n",
    "\n",
    "    def speak(self):\n",
    "        return f\"{self.name} meows and is {self.color}\"\n",
    "\n",
    "cat1 = Cat(\"Whiskers\", \"black\")\n",
    "print(cat1.speak())  "
   ]
  },
  {
   "cell_type": "markdown",
   "id": "d9ec8788-26f0-4f4a-88c5-2f8e24acfac5",
   "metadata": {},
   "source": [
    "## 🔄 3. Multilevel Inheritance"
   ]
  },
  {
   "cell_type": "code",
   "execution_count": 22,
   "id": "98d900b0-f025-4239-869b-8c0cb2ecedf5",
   "metadata": {},
   "outputs": [
    {
     "name": "stdout",
     "output_type": "stream",
     "text": [
      "Breathing...\n",
      "Moving...\n",
      "Barks\n"
     ]
    }
   ],
   "source": [
    "class LivingBeing:\n",
    "    def breathe(self):\n",
    "        return \"Breathing...\"\n",
    "\n",
    "class Animal(LivingBeing):\n",
    "    def move(self):\n",
    "        return \"Moving...\"\n",
    "\n",
    "class Dog(Animal):\n",
    "    def speak(self):\n",
    "        return \"Barks\"\n",
    "\n",
    "dog = Dog()\n",
    "print(dog.breathe())   # From LivingBeing\n",
    "print(dog.move())    # From Animal\n",
    "print(dog.speak())    # From Dog"
   ]
  },
  {
   "cell_type": "markdown",
   "id": "a474bbcc-0df9-44df-81b9-57465ed07579",
   "metadata": {},
   "source": [
    "## 🔁 4. Multiple Inheritance"
   ]
  },
  {
   "cell_type": "code",
   "execution_count": 23,
   "id": "d41c1ba3-8c71-4478-b243-a45c0ffdbfc7",
   "metadata": {},
   "outputs": [
    {
     "name": "stdout",
     "output_type": "stream",
     "text": [
      "Flying in the sky\n",
      "Swimming in water\n",
      "Quack\n"
     ]
    }
   ],
   "source": [
    "class Flyable:\n",
    "    def fly(self):\n",
    "        return \"Flying in the sky\"\n",
    "\n",
    "class Swimmable:\n",
    "    def swim(self):\n",
    "        return \"Swimming in water\"\n",
    "\n",
    "class Duck(Flyable, Swimmable):\n",
    "    def sound(self):\n",
    "        return \"Quack\"\n",
    "\n",
    "d = Duck()\n",
    "print(d.fly())     # Flying in the sky\n",
    "print(d.swim())     # Swimming in  water\n",
    "print(d.sound())     # Quack"
   ]
  },
  {
   "cell_type": "markdown",
   "id": "274719fe-443a-4d1c-8152-286d6614e8b8",
   "metadata": {},
   "source": [
    "## ⚙️ 5. Method Resolution Order (MRO)"
   ]
  },
  {
   "cell_type": "code",
   "execution_count": 24,
   "id": "154a6a0a-4fd9-429b-b792-555cc9107282",
   "metadata": {},
   "outputs": [
    {
     "name": "stdout",
     "output_type": "stream",
     "text": [
      "B\n",
      "[<class '__main__.D'>, <class '__main__.B'>, <class '__main__.C'>, <class '__main__.A'>, <class 'object'>]\n"
     ]
    }
   ],
   "source": [
    "class A:\n",
    "    def show(self):\n",
    "        return \"A\"\n",
    "\n",
    "class B(A):\n",
    "    def show(self):\n",
    "        return \"B\"\n",
    "\n",
    "class C(A):\n",
    "    def show(self):\n",
    "        return \"C\"\n",
    "\n",
    "class D(B, C):   # Inherits from B first, then C\n",
    "    pass\n",
    "\n",
    "obj = D()\n",
    "print(obj.show())    # Output: B\n",
    "print(D.mro())    # Show the order python resolves methods"
   ]
  },
  {
   "cell_type": "markdown",
   "id": "f5158f63-98eb-4b39-a7ec-2356e9d304ab",
   "metadata": {},
   "source": [
    "## 📌 6. Abstract Classes (using abc module)"
   ]
  },
  {
   "cell_type": "code",
   "execution_count": 25,
   "id": "d6c56905-ac3b-4e2b-8b4e-c0637bc5c043",
   "metadata": {},
   "outputs": [
    {
     "name": "stdout",
     "output_type": "stream",
     "text": [
      "78.5\n"
     ]
    }
   ],
   "source": [
    "from abc import ABC, abstractmethod\n",
    "\n",
    "class Shape(ABC):\n",
    "    @abstractmethod\n",
    "    def area(self):\n",
    "        pass\n",
    "\n",
    "class Circle(Shape):\n",
    "    def __init__(self, radius):\n",
    "        self.radius = radius\n",
    "\n",
    "    def area(self):\n",
    "        return 3.14 * self.radius ** 2\n",
    "\n",
    "# shape = Shape()   # ❌ Error: Can't instantiate abstract class\n",
    "circle = Circle(5)\n",
    "print(circle.area())"
   ]
  },
  {
   "cell_type": "markdown",
   "id": "08303628-9313-4732-bdd7-35d67819274d",
   "metadata": {},
   "source": [
    "## 🔒 7. Private Attributes with Inheritance"
   ]
  },
  {
   "cell_type": "code",
   "execution_count": 26,
   "id": "b40ca392-a401-44c1-b315-11e24a507ee2",
   "metadata": {},
   "outputs": [
    {
     "name": "stdout",
     "output_type": "stream",
     "text": [
      "Name: Alice, Salary: 75000\n"
     ]
    }
   ],
   "source": [
    "class Employee:\n",
    "    def __init__(self, name, salary):\n",
    "        self.name = name\n",
    "        self.__salary = salary   # Private attribute\n",
    "\n",
    "    def get_salary(self):\n",
    "        return self.__salary\n",
    "\n",
    "class Manager(Employee):\n",
    "    def display(self):\n",
    "        return f\"Name: {self.name}, Salary: {self.get_salary()}\"\n",
    "\n",
    "m = Manager(\"Alice\", 75000)\n",
    "print(m.display())   "
   ]
  },
  {
   "cell_type": "code",
   "execution_count": null,
   "id": "b29fd47c-d67a-4004-ab23-748da603a777",
   "metadata": {},
   "outputs": [],
   "source": []
  },
  {
   "cell_type": "code",
   "execution_count": null,
   "id": "b57bdf0c-0c46-4390-99f0-41bd68d6e51b",
   "metadata": {},
   "outputs": [],
   "source": []
  },
  {
   "cell_type": "code",
   "execution_count": null,
   "id": "321b392d-fde0-4da9-a9b2-01d465406ac8",
   "metadata": {},
   "outputs": [],
   "source": []
  },
  {
   "cell_type": "code",
   "execution_count": null,
   "id": "5571b484-5795-4e5c-aec1-8e043d6d533c",
   "metadata": {},
   "outputs": [],
   "source": []
  },
  {
   "cell_type": "code",
   "execution_count": null,
   "id": "94e1cdfe-88a5-4cb2-96ff-55c374d59160",
   "metadata": {},
   "outputs": [],
   "source": []
  },
  {
   "cell_type": "code",
   "execution_count": null,
   "id": "6e444697-a191-4c61-886e-de8c476ad477",
   "metadata": {},
   "outputs": [],
   "source": []
  },
  {
   "cell_type": "code",
   "execution_count": null,
   "id": "ed148166-fbfb-4f65-bb36-d1ceb9e00691",
   "metadata": {},
   "outputs": [],
   "source": []
  }
 ],
 "metadata": {
  "kernelspec": {
   "display_name": "Python 3 (ipykernel)",
   "language": "python",
   "name": "python3"
  },
  "language_info": {
   "codemirror_mode": {
    "name": "ipython",
    "version": 3
   },
   "file_extension": ".py",
   "mimetype": "text/x-python",
   "name": "python",
   "nbconvert_exporter": "python",
   "pygments_lexer": "ipython3",
   "version": "3.10.11"
  }
 },
 "nbformat": 4,
 "nbformat_minor": 5
}
