{
 "cells": [
  {
   "cell_type": "markdown",
   "id": "8f8a96ec-3339-41fb-aa06-c09350c90545",
   "metadata": {},
   "source": [
    "# Encapsulation\n",
    "\n",
    "✅ What is Encapsulation?\n",
    "Encapsulation means **hiding internal details** of how an object works and exposing only what's necessary via methods.\n",
    "\n",
    "In Python, this is done by:\n",
    "\n",
    "* Using **instance variables** (with self)\n",
    "* Restricting access with **private members**   `(_ or __)`\n",
    "* Creating **getter/setter** methods to safely access or update internal state\n",
    "\n",
    "#### Summary: Encapsulation Techniques \n",
    "\n",
    "| Technique              | Example Syntax           | Access Level   |\n",
    "| ---------------------- | ------------------------ | -------------- |\n",
    "| Public                 | `self.name`              | Everywhere     |\n",
    "| Protected (by conv.)   | `self._balance`          | Class/Subclass |\n",
    "| Private (name-mangled) | `self.__secret`          | Class only     |\n",
    "| Property (get/set)     | `@property`, `@x.setter` | Controlled     |\n"
   ]
  },
  {
   "cell_type": "code",
   "execution_count": 1,
   "id": "38256e3e-6834-41cf-a58c-bbd7dce5e44b",
   "metadata": {
    "collapsed": true,
    "jupyter": {
     "outputs_hidden": true
    },
    "scrolled": true
   },
   "outputs": [
    {
     "name": "stdout",
     "output_type": "stream",
     "text": [
      "Alice\n",
      "30\n",
      "50000\n",
      "60000\n"
     ]
    }
   ],
   "source": [
    "class Person:\n",
    "    def __init__(self, name, age):\n",
    "        self.name = name          # Public attribute: accessible from anywhere\n",
    "        self._age = age           # Protected attribute: should be accessed within class or subclass\n",
    "        self.__salary = 50000     # Private attribute: not directly accessible outside the class\n",
    "\n",
    "    def get_salary(self):         # Getter method to access private salary\n",
    "        return self.__salary      # Returns the current value of __salary\n",
    "\n",
    "    def set_salary(self, amount): # Setter method to update private salary\n",
    "        if amount > 0:\n",
    "            self.__salary = amount  # Sets __salary if amount is valid (positive)\n",
    "        else:\n",
    "            print(\"Invalid salary\") # Error message for invalid input\n",
    "\n",
    "\n",
    "# Create object\n",
    "p = Person(\"Alice\", 30)\n",
    "\n",
    "# Accessing public member\n",
    "print(p.name)  # Alice\n",
    "\n",
    "# Accessing protected member (allowed but discouraged)\n",
    "print(p._age)  # 30\n",
    "\n",
    "# Accessing private member directly (Error)\n",
    "# print(p.__salary)  # AttributeError\n",
    "\n",
    "# Correct way to access private member\n",
    "print(p.get_salary())  # 50000\n",
    "\n",
    "# Setting salary\n",
    "p.set_salary(60000)\n",
    "print(p.get_salary())  # 60000\n"
   ]
  },
  {
   "cell_type": "markdown",
   "id": "759afa7a-c0f9-4103-90aa-57bffd9ae60e",
   "metadata": {},
   "source": [
    "## 1. Basic Encapsulation"
   ]
  },
  {
   "cell_type": "code",
   "execution_count": 33,
   "id": "81f2d49d-0f4c-46ae-8a53-2ae533a7a592",
   "metadata": {},
   "outputs": [
    {
     "name": "stdout",
     "output_type": "stream",
     "text": [
      "Hello, my name is Alice and I am 30 years old.\n"
     ]
    }
   ],
   "source": [
    "class Person:\n",
    "    def __init__(self, name, age):\n",
    "        self.name = name   # Public attribute\n",
    "        self.age = age     # Public attribute\n",
    "\n",
    "    def greet(self):\n",
    "        print(f\"Hello, my name is {self.name} and I am {self.age} years old.\")\n",
    "\n",
    "p = Person(\"Alice\", 30)\n",
    "p.greet()"
   ]
  },
  {
   "cell_type": "markdown",
   "id": "197ee23a-dc24-47fd-b496-d969205a1095",
   "metadata": {},
   "source": [
    "## 2. Encapsulation with Protected Attribute(Convention: _var)"
   ]
  },
  {
   "cell_type": "code",
   "execution_count": 28,
   "id": "a6d1a941-75f0-4f03-b2b4-1bedb023d95c",
   "metadata": {},
   "outputs": [
    {
     "name": "stdout",
     "output_type": "stream",
     "text": [
      "1000\n",
      "1000\n"
     ]
    }
   ],
   "source": [
    "class BankAccount:\n",
    "    def __init__(self, owner, balance):\n",
    "        self.owner = owner\n",
    "        self._balance = balance   # Protected (by Convention)\n",
    "\n",
    "    def show_balance(self):\n",
    "        return self._balance\n",
    "\n",
    "acc = BankAccount(\"Bob\", 1000)\n",
    "print(acc.show_balance())\n",
    "print(acc._balance)  # Still accessible, but discouraged\n",
    "\n",
    "#  Explanation:\n",
    "# _balance is marked as protected by convention — should be accessed within class or subclasses only"
   ]
  },
  {
   "cell_type": "markdown",
   "id": "658eb24f-1a53-40c6-a396-4afae6393820",
   "metadata": {},
   "source": [
    "## 3. Stronger Encapsulation with Private Attribute(_var)"
   ]
  },
  {
   "cell_type": "code",
   "execution_count": 29,
   "id": "2586c32c-e229-4c01-9b32-740acd79a6a4",
   "metadata": {},
   "outputs": [
    {
     "name": "stdout",
     "output_type": "stream",
     "text": [
      "500\n",
      "500\n"
     ]
    }
   ],
   "source": [
    "class SecureAccount:\n",
    "    def __init__(self, owner, balance):\n",
    "        self.owner = owner\n",
    "        self.__balance = balance   # Private attribute\n",
    "\n",
    "    def get_balance(self):\n",
    "        return self.__balance\n",
    "\n",
    "    def deposite(self, amount):\n",
    "        if amount > 0:\n",
    "            self.__balance += amount\n",
    "\n",
    "s = SecureAccount(\"Eve\", 500)\n",
    "print(s.get_balance())\n",
    "\n",
    "\n",
    "# print(s.__balance)   #❌ Error: attribute is private\n",
    "# But it can still accessed via name mangling:\n",
    "print(s._SecureAccount__balance)   # Not recommended\n",
    "\n",
    "# 🔹 Explanation:\n",
    "# __balance is private — Python performs name mangling\n",
    "# Accessible only through public methods like get_balance() and deposit()"
   ]
  },
  {
   "cell_type": "markdown",
   "id": "6925080b-8d53-47c8-ac86-d5530370a4e2",
   "metadata": {},
   "source": [
    "## 4. Encapsulation with Getters and Setters (Manual)"
   ]
  },
  {
   "cell_type": "code",
   "execution_count": 30,
   "id": "15d20fdd-c301-480e-af75-a596c99d6224",
   "metadata": {},
   "outputs": [
    {
     "name": "stdout",
     "output_type": "stream",
     "text": [
      "85\n",
      "95\n"
     ]
    }
   ],
   "source": [
    "class Student:\n",
    "    def __init__(self, name, grade):\n",
    "        self.__name = name\n",
    "        self.__grade = grade\n",
    "\n",
    "    def get_grade(self):\n",
    "        return self.__grade\n",
    "\n",
    "    def set_grade(self, grade):\n",
    "        if 0 <= grade <= 100:\n",
    "            self.__grade = grade\n",
    "        else:\n",
    "            raise ValueError(\"Grade must be between 0 and 100\")\n",
    "\n",
    "s = Student(\"Ravin\", 85)\n",
    "print(s.get_grade())\n",
    "s.set_grade(95)\n",
    "print(s.get_grade())\n",
    "\n",
    "# 🔹 Explanation:\n",
    "# Validates input before updating internal state\n",
    "# Protects object from invalid data"
   ]
  },
  {
   "cell_type": "markdown",
   "id": "2b355085-1cf1-401a-8801-aa13b5a47145",
   "metadata": {},
   "source": [
    "## 5. Pythonic way: @property Decorator"
   ]
  },
  {
   "cell_type": "code",
   "execution_count": 31,
   "id": "f10b342c-a473-4e0d-85b0-03856f8a2add",
   "metadata": {},
   "outputs": [
    {
     "name": "stdout",
     "output_type": "stream",
     "text": [
      "40000\n",
      "450000\n"
     ]
    }
   ],
   "source": [
    "class Employee:\n",
    "    def __init__(self, name, salary):\n",
    "        self.__name = name\n",
    "        self.__salary = salary\n",
    "\n",
    "    @property\n",
    "    def salary(self):\n",
    "        return self.__salary\n",
    "\n",
    "    @salary.setter\n",
    "    def salary(self, value):\n",
    "        if value >= 0:\n",
    "            self.__salary = value\n",
    "        else:\n",
    "            raise ValueError(\"Salary must be positive.\")\n",
    "\n",
    "e = Employee(\"Nina\", 40000)\n",
    "print(e.salary)   # Calls getter\n",
    "e.salary = 450000    # Calls setter\n",
    "print(e.salary)\n",
    "\n",
    "# 🔹 Explanation:\n",
    "\n",
    "# @property makes method access look like attribute access\n",
    "# This is the most Pythonic way to implement controlled access"
   ]
  },
  {
   "cell_type": "markdown",
   "id": "7e99ce43-ad7e-4356-b1cd-a1615e9bff30",
   "metadata": {},
   "source": [
    "## 6. Advanced: Encapsulation with Inheritance"
   ]
  },
  {
   "cell_type": "code",
   "execution_count": 32,
   "id": "556b025b-f42f-4e74-8b70-b4a25c6a2a85",
   "metadata": {},
   "outputs": [
    {
     "name": "stdout",
     "output_type": "stream",
     "text": [
      "admin123 (Admin Level: 5)\n"
     ]
    }
   ],
   "source": [
    "class User:\n",
    "    def __init__(self, username):\n",
    "        self._username = username  # Protected\n",
    "\n",
    "class Admin(User):\n",
    "    def __init__(self, username, level):\n",
    "        super().__init__(username)\n",
    "        self.__admin_level = level   # Private\n",
    "\n",
    "    def get_admin_info(self):\n",
    "        return f\"{self._username} (Admin Level: {self.__admin_level})\"\n",
    "\n",
    "a = Admin(\"admin123\", 5)\n",
    "print(a.get_admin_info())\n",
    "\n",
    "# 🔹 Explanation:\n",
    "# Admin can access _username because it's protected\n",
    "# __admin_level remains private to Admin"
   ]
  },
  {
   "cell_type": "code",
   "execution_count": null,
   "id": "1e24686c-5d54-4952-83ff-dfe1dd84f0a9",
   "metadata": {},
   "outputs": [],
   "source": []
  },
  {
   "cell_type": "code",
   "execution_count": null,
   "id": "c063bd4f-477c-4568-accf-2c254e0d8194",
   "metadata": {},
   "outputs": [],
   "source": []
  },
  {
   "cell_type": "code",
   "execution_count": null,
   "id": "f8a57144-65c8-484f-bd70-1cc11f6662ad",
   "metadata": {},
   "outputs": [],
   "source": []
  },
  {
   "cell_type": "code",
   "execution_count": null,
   "id": "a4aa253e-1d82-4731-9a8f-8d05472e3239",
   "metadata": {},
   "outputs": [],
   "source": []
  },
  {
   "cell_type": "code",
   "execution_count": null,
   "id": "50b8668b-2deb-4b74-a35e-f458a83bff55",
   "metadata": {},
   "outputs": [],
   "source": []
  }
 ],
 "metadata": {
  "kernelspec": {
   "display_name": "Python 3 (ipykernel)",
   "language": "python",
   "name": "python3"
  },
  "language_info": {
   "codemirror_mode": {
    "name": "ipython",
    "version": 3
   },
   "file_extension": ".py",
   "mimetype": "text/x-python",
   "name": "python",
   "nbconvert_exporter": "python",
   "pygments_lexer": "ipython3",
   "version": "3.10.11"
  }
 },
 "nbformat": 4,
 "nbformat_minor": 5
}
