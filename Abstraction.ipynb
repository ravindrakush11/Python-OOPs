{
 "cells": [
  {
   "cell_type": "markdown",
   "id": "346988ca-5993-4ebc-ad60-208f307e6128",
   "metadata": {},
   "source": [
    "# Abstraction"
   ]
  },
  {
   "cell_type": "markdown",
   "id": "35dbde07-207d-40e8-aab7-2c2abced7ee0",
   "metadata": {},
   "source": [
    "## 🧱 1. Basic Abstraction Using Functions"
   ]
  },
  {
   "cell_type": "code",
   "execution_count": 1,
   "id": "8db7a75d-0dc4-4661-b15f-eec6efa5202b",
   "metadata": {},
   "outputs": [
    {
     "name": "stdout",
     "output_type": "stream",
     "text": [
      "78.53981633974483\n"
     ]
    }
   ],
   "source": [
    "# Simple abstraction\n",
    "def calculate_area(radius):\n",
    "    from math import pi\n",
    "    return pi * radius ** 2\n",
    "\n",
    "print(calculate_area(5))\n",
    "\n",
    "# 👉 The user doesn’t need to know how the area is calculated — just call the function."
   ]
  },
  {
   "cell_type": "markdown",
   "id": "3a19331b-8bc3-44c6-ab14-f1d9dc7e28de",
   "metadata": {},
   "source": [
    "## 🧱 2. Basic Abstraction with Classes"
   ]
  },
  {
   "cell_type": "code",
   "execution_count": 2,
   "id": "7eef98ff-49c2-4e97-896d-59b3d5c5da88",
   "metadata": {},
   "outputs": [
    {
     "name": "stdout",
     "output_type": "stream",
     "text": [
      "1500\n"
     ]
    }
   ],
   "source": [
    "class BankAccount:\n",
    "    def __init__(self, balance):\n",
    "        self.__balance = balance   # Private attribute\n",
    "\n",
    "    def deposit(self, amount):\n",
    "        if amount > 0:\n",
    "            self.__balance += amount\n",
    "\n",
    "    def get_balance(self):\n",
    "        return self.__balance\n",
    "\n",
    "account = BankAccount(1000)\n",
    "account.deposit(500)\n",
    "print(account.get_balance())\n",
    "\n",
    "# 🔐 __balance is hidden from direct access.\n",
    "# ✅ Only public methods like deposit() and get_balance() are exposed."
   ]
  },
  {
   "cell_type": "markdown",
   "id": "473e2095-2942-4f31-96de-d17604bb367b",
   "metadata": {},
   "source": [
    "## 🧱 3. Using Abstract Base Classes (ABC)\n",
    "\n",
    "Python provides formal abstraction using the abc module."
   ]
  },
  {
   "cell_type": "code",
   "execution_count": 3,
   "id": "70386e29-42a7-4332-88e2-5febfb0cfdb5",
   "metadata": {},
   "outputs": [
    {
     "name": "stdout",
     "output_type": "stream",
     "text": [
      "Bark\n",
      "Meow\n"
     ]
    }
   ],
   "source": [
    "from abc import ABC, abstractmethod\n",
    "\n",
    "class Animal(ABC):\n",
    "    @abstractmethod\n",
    "    def make_sound(self):\n",
    "        pass\n",
    "\n",
    "class Dog(Animal):\n",
    "    def make_sound(self):\n",
    "        return \"Bark\"\n",
    "\n",
    "class Cat(Animal):\n",
    "    def make_sound(self):\n",
    "        return \"Meow\"\n",
    "\n",
    "animals = [Dog(), Cat()]\n",
    "for animal in animals:\n",
    "    print(animal.make_sound())\n",
    "\n",
    "# ✅ Animal enforces that all subclasses must implement make_sound()"
   ]
  },
  {
   "cell_type": "markdown",
   "id": "f226ce4d-06b1-4066-bdfb-6ae3affdd237",
   "metadata": {},
   "source": [
    "## 🧱 4. Advanced Abstraction with Interfaces and Polymorphism\n",
    "\n",
    "Multiple classes can share a common interface, enabling flexible code design."
   ]
  },
  {
   "cell_type": "code",
   "execution_count": 4,
   "id": "965d4c87-8d44-44e8-ac6b-4cb30a69d169",
   "metadata": {},
   "outputs": [
    {
     "name": "stdout",
     "output_type": "stream",
     "text": [
      "Paid Rs.1000 with Credit Card\n",
      "Paid Rs.500 via UPI\n"
     ]
    }
   ],
   "source": [
    "from abc import ABC, abstractmethod\n",
    "\n",
    "class PaymentProcessor(ABC):\n",
    "    @abstractmethod\n",
    "    def pay(self, amount):\n",
    "        pass\n",
    "\n",
    "class CreditCardProcessor(PaymentProcessor):\n",
    "    def pay(self, amount):\n",
    "        print(f\"Paid Rs.{amount} with Credit Card\")\n",
    "\n",
    "class UPIProcessor(PaymentProcessor):\n",
    "    def pay(self, amount):\n",
    "        print(f\"Paid Rs.{amount} via UPI\")\n",
    "\n",
    "# Polymorphism usage\n",
    "def checkout(processor: PaymentProcessor, amount):\n",
    "    processor.pay(amount)\n",
    "\n",
    "checkout(CreditCardProcessor(), 1000)\n",
    "checkout(UPIProcessor(), 500)\n",
    "\n",
    "# 🔁 Abstract interface: PaymentProcessor\n",
    "# 🧠 Users only interact with .pay() — not internal implementation"
   ]
  },
  {
   "cell_type": "markdown",
   "id": "2efb525e-0e3b-4577-9e69-00b5eb0b0803",
   "metadata": {},
   "source": [
    "## 🧑‍💼 Advanced Abstraction: Person and Job Interface Example"
   ]
  },
  {
   "cell_type": "code",
   "execution_count": 5,
   "id": "50a22bf3-021a-451d-87bb-05cd25fa6e50",
   "metadata": {},
   "outputs": [
    {
     "name": "stdout",
     "output_type": "stream",
     "text": [
      "Alice is working: Diagnosing patients and writing prescriptions.\n",
      "Bob is working: Designing systems and writing code.\n",
      "Cara is working: Painting and creating art.\n"
     ]
    }
   ],
   "source": [
    "from abc import ABC, abstractmethod\n",
    "\n",
    "class Job(ABC):    # Abstract class (interface)\n",
    "    @abstractmethod\n",
    "    def work(self):\n",
    "        pass\n",
    "\n",
    "# Concrete implementations\n",
    "class Doctor(Job):\n",
    "    def work(self):\n",
    "        return \"Diagnosing patients and writing prescriptions.\"\n",
    "\n",
    "class Engineer(Job):\n",
    "    def work(self):\n",
    "        return \"Designing systems and writing code.\"\n",
    "\n",
    "class Artist(Job):\n",
    "    def work(self):\n",
    "        return \"Painting and creating art.\"\n",
    "\n",
    "# Person class using abstraction\n",
    "class Person:\n",
    "    def __init__(self, name, job: Job):\n",
    "        self.name = name\n",
    "        self.job = job\n",
    "\n",
    "    def perform_work(self):\n",
    "        return f\"{self.name} is working: {self.job.work()}\"\n",
    "\n",
    "people = [\n",
    "    Person(\"Alice\", Doctor()),\n",
    "    Person(\"Bob\", Engineer()),\n",
    "    Person(\"Cara\", Artist())\n",
    "]\n",
    "\n",
    "for person in people:\n",
    "    print(person.perform_work())\n",
    "\n",
    "# 🔍 Explanation:\n",
    "# Job is the abstract base class (interface).\n",
    "# Each job type (Doctor, Engineer, Artist) implements the work() method differently.\n",
    "# Person uses polymorphism — it doesn't care how job.work() is done, only that it exists."
   ]
  },
  {
   "cell_type": "code",
   "execution_count": null,
   "id": "f6fee221-aba9-4301-9889-381eaa478016",
   "metadata": {},
   "outputs": [],
   "source": []
  },
  {
   "cell_type": "markdown",
   "id": "29cf4b74-f4e2-4d49-b04b-10c74c35bb56",
   "metadata": {},
   "source": [
    "## Summary\n",
    "| Level        | Example Used                | Concept                                        |\n",
    "| ------------ | --------------------------- | ---------------------------------------------- |\n",
    "| Basic        | Function (`calculate_area`) | Hides math logic                               |\n",
    "| Intermediate | Class (`BankAccount`)       | Encapsulates internal data                     |\n",
    "| Advanced     | `ABC` + subclasses          | Enforces structure using abstract base classes |\n",
    "| Pro          | Interface + polymorphism    | Flexible design with shared interface          |\n"
   ]
  },
  {
   "cell_type": "code",
   "execution_count": null,
   "id": "662e0dc6-7993-46bb-b4c8-486613e693de",
   "metadata": {},
   "outputs": [],
   "source": []
  },
  {
   "cell_type": "code",
   "execution_count": null,
   "id": "c7b9a0f6-25c1-4f10-9675-07162df20f14",
   "metadata": {},
   "outputs": [],
   "source": []
  }
 ],
 "metadata": {
  "kernelspec": {
   "display_name": "Python 3 (ipykernel)",
   "language": "python",
   "name": "python3"
  },
  "language_info": {
   "codemirror_mode": {
    "name": "ipython",
    "version": 3
   },
   "file_extension": ".py",
   "mimetype": "text/x-python",
   "name": "python",
   "nbconvert_exporter": "python",
   "pygments_lexer": "ipython3",
   "version": "3.10.11"
  }
 },
 "nbformat": 4,
 "nbformat_minor": 5
}
