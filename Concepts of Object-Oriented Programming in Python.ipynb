{
 "cells": [
  {
   "cell_type": "markdown",
   "id": "2720bbdc-c9dc-4aca-867b-50bdaa06a827",
   "metadata": {},
   "source": [
    "## 🧠 Object-Oriented Programming in Python: Key Concepts\n",
    "\n",
    "---\n",
    "\n",
    "### ✅ What is OOP?\n",
    "\n",
    "Object-Oriented Programming (OOP) is a **programming paradigm** that structures code using **objects** — bundles of **properties (data)** and **behaviors (functions)**.\n",
    "\n",
    "**Example:**\n",
    "\n",
    "* **Object:** Person\n",
    "\n",
    "  * **Attributes:** `name`, `age`\n",
    "  * **Methods:** `walk()`, `talk()`\n",
    "\n",
    "OOP helps in modeling **real-world entities** and their **relationships**:\n",
    "\n",
    "* Car\n",
    "* Company ↔ Employee\n",
    "* Student ↔ Teacher\n",
    "\n",
    "---\n",
    "\n",
    "### 🌟 The Four Pillars of OOP\n",
    "\n",
    "| Pillar            | Meaning                                                                                                                                                              |\n",
    "| ----------------- | -------------------------------------------------------------------------------------------------------------------------------------------------------------------- |\n",
    "| **Encapsulation** | Groups data (attributes) and behavior (methods) into a class. Protects internal state and ensures modularity.                                                        |\n",
    "| **Inheritance**   | Allows one class (child) to inherit properties/methods from another (parent). Promotes code reuse.                                                                   |\n",
    "| **Abstraction**   | Hides internal implementation and shows only the necessary interface. Simplifies interaction.                                                                        |\n",
    "| **Polymorphism**  | Lets different objects respond to the same interface in their own way. Enables flexibility. Python supports this through **duck typing** (If it walks like a duck…). |\n",
    "\n",
    "---\n",
    "\n",
    "## 🔧 Defining Classes in Python\n",
    "\n",
    "---"
   ]
  },
  {
   "cell_type": "markdown",
   "id": "a1a34c7d-7fa3-400c-9358-4a12cc750e13",
   "metadata": {},
   "source": [
    "### 🧱 Basic Class Structure"
   ]
  },
  {
   "cell_type": "code",
   "execution_count": 1,
   "id": "6f51f728-8194-468e-9de9-da834ed77dca",
   "metadata": {},
   "outputs": [],
   "source": [
    "class ClassName:\n",
    "    def __init__(self, param1, param2):\n",
    "        self.param1 = param1\n",
    "        self.param2 = param2"
   ]
  },
  {
   "cell_type": "markdown",
   "id": "700f85be-d778-4064-827d-8e164a6093ef",
   "metadata": {},
   "source": [
    "* `class` defines a new class.\n",
    "* `__init__()` is the constructor used to initialize instance attributes.\n",
    "* `self` refers to the **current object (instance)** being created or accessed.\n"
   ]
  },
  {
   "cell_type": "markdown",
   "id": "f3b04060-f35d-469a-a539-3383562ce240",
   "metadata": {},
   "source": [
    "## ✅ Using Classes"
   ]
  },
  {
   "cell_type": "code",
   "execution_count": 2,
   "id": "f93de3f4-4c38-40c5-97d1-bddb56f696c3",
   "metadata": {},
   "outputs": [],
   "source": [
    "class Employee:\n",
    "    def __init__(self, name, age, position, start_year):\n",
    "        self.name = name\n",
    "        self.age = age\n",
    "        self.position = position\n",
    "        self.start_year = start_year"
   ]
  },
  {
   "cell_type": "markdown",
   "id": "c0645c91-db31-4ba3-8eab-e934ed8c62b4",
   "metadata": {},
   "source": [
    "## 🐶 Dog Class Example\n",
    "\n",
    "---\n",
    "\n",
    "### ✅ Class vs. Instance\n",
    "\n",
    "| Term         | Meaning                                                   |\n",
    "| ------------ | --------------------------------------------------------- |\n",
    "| **Class**    | A blueprint (e.g., `Dog`)                                 |\n",
    "| **Instance** | A real object with data (e.g., `miles = Dog(\"Miles\", 4)`) |\n"
   ]
  },
  {
   "cell_type": "markdown",
   "id": "37efbb38-5630-426b-8d7e-78a07db07b23",
   "metadata": {},
   "source": [
    "## ✏️ Defining the Class"
   ]
  },
  {
   "cell_type": "code",
   "execution_count": 3,
   "id": "7665074f-feb5-4f3e-a954-3bcf63e9f5dc",
   "metadata": {},
   "outputs": [],
   "source": [
    "class Dog:\n",
    "    def __init__(self, name, age):\n",
    "        self.name = name\n",
    "        self.age = age"
   ]
  },
  {
   "cell_type": "markdown",
   "id": "8ca7b6b4-d3fd-4bb7-87ef-94a147eb6696",
   "metadata": {},
   "source": [
    "* `self.name` and `self.age` are **instance attributes** (unique to each object).\n",
    "* Every time a new `Dog` is created, these attributes are set.\n"
   ]
  },
  {
   "cell_type": "markdown",
   "id": "95b6d8b6-05f3-4616-88c4-b5756a563b40",
   "metadata": {},
   "source": [
    "### 📌 Class Attributes vs. Instance Attributes\n",
    "\n",
    "#### ✅ Instance Attributes\n",
    "\n",
    "* Defined in `__init__()`\n",
    "* Unique per instance\n",
    "\n",
    "#### ✅ Class Attributes\n",
    "\n",
    "* Defined outside `__init__()`\n",
    "* Shared by all instances\n"
   ]
  },
  {
   "cell_type": "code",
   "execution_count": 4,
   "id": "f67367c3-ee6e-4a65-abb4-658b39f09e36",
   "metadata": {},
   "outputs": [],
   "source": [
    "class Dog:\n",
    "    species = \"Canis familiaris\"  # class attribute"
   ]
  },
  {
   "cell_type": "markdown",
   "id": "b1a2bea3-5a6d-4b6e-b1fa-a82be13228e8",
   "metadata": {},
   "source": [
    "\n",
    "### 🔍 What is `self`?\n",
    "\n",
    "In Python, `self` refers to **the current object (instance)** being created or used. It's how Python accesses **that object's data and methods**.\n",
    "\n",
    "```python\n",
    "class Dog:\n",
    "    def __init__(self, name, age):\n",
    "        self.name = name\n",
    "        self.age = age\n",
    "```\n",
    "\n",
    "When you create an object:\n",
    "\n",
    "```python\n",
    "dog1 = Dog(\"Buddy\", 3)\n",
    "```\n",
    "\n",
    "Internally:\n",
    "\n",
    "* `__init__()` receives `dog1` as the `self` argument.\n",
    "* `self.name = name` becomes `dog1.name = \"Buddy\"`\n",
    "* `self.age = age` becomes `dog1.age = 3`\n",
    "\n",
    "---\n",
    "\n",
    "### ❓ Why not just write `name = name`?\n",
    "\n",
    "That would only set a local variable — not save the data inside the object.\n",
    "`self.name = name` stores the value in the **object's memory**.\n",
    "\n",
    "---\n",
    "\n",
    "### 🧠 Analogy\n",
    "\n",
    "Think of `self` as saying:\n",
    "“This specific dog I'm working with right now.”\n",
    "\n",
    "If you tell 3 dogs \"Your name is Buddy\", none will know who you're talking to.\n",
    "But if you point and say, \"You — your name is Buddy,\" it's clear.\n",
    "That “You” is `self`.\n",
    "\n",
    "---\n",
    "\n",
    "### 🔁 `self` Summary:\n",
    "\n",
    "| Concept         | Meaning                                      |\n",
    "| --------------- | -------------------------------------------- |\n",
    "| `self`          | Refers to the current instance of the class  |\n",
    "| `self.name`     | The name attribute of *this specific* object |\n",
    "| In `__init__()` | Python auto-passes the object as `self`      |\n",
    "\n",
    "---\n"
   ]
  },
  {
   "cell_type": "code",
   "execution_count": null,
   "id": "399a9e95-a3d5-42d6-9cca-c571a819c67e",
   "metadata": {},
   "outputs": [],
   "source": []
  }
 ],
 "metadata": {
  "kernelspec": {
   "display_name": "Python 3 (ipykernel)",
   "language": "python",
   "name": "python3"
  },
  "language_info": {
   "codemirror_mode": {
    "name": "ipython",
    "version": 3
   },
   "file_extension": ".py",
   "mimetype": "text/x-python",
   "name": "python",
   "nbconvert_exporter": "python",
   "pygments_lexer": "ipython3",
   "version": "3.10.11"
  }
 },
 "nbformat": 4,
 "nbformat_minor": 5
}
