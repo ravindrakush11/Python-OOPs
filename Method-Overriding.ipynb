{
 "cells": [
  {
   "cell_type": "markdown",
   "id": "39abdddc-cafc-4eea-89fd-31de9d3d1f08",
   "metadata": {},
   "source": [
    "### 🔁 What is **Method Overriding**?\n",
    "\n",
    "**Method overriding** is when a **child (subclass)** provides a **specific implementation** of a method that is **already defined** in its **parent (superclass)**.\n",
    "\n",
    "---\n",
    "\n",
    "### 🧠 Think of it like this:\n",
    "\n",
    "> A child class **replaces** or **customizes** a method it inherited from the parent class.\n",
    "\n",
    "---\n",
    "\n",
    "### ✅ Why use it?\n",
    "\n",
    "* To **change behavior** in the subclass.\n",
    "* To **extend** or **enhance** base class functionality.\n",
    "* To **implement polymorphism** (treat different objects the same way, but get different behaviors)."
   ]
  },
  {
   "cell_type": "markdown",
   "id": "b936d92c-cf82-4083-bc7c-816937b05e6e",
   "metadata": {},
   "source": []
  },
  {
   "cell_type": "markdown",
   "id": "4e7d1319-c7bc-47a6-9992-826440d39e85",
   "metadata": {},
   "source": [
    "## 🧱 1. Basic Method Overriding\n",
    "When a child class provides a specific implementation of a method that is already defined in its parent class."
   ]
  },
  {
   "cell_type": "code",
   "execution_count": 1,
   "id": "b02a072b-6462-480d-b10c-5aa999c0445b",
   "metadata": {},
   "outputs": [
    {
     "name": "stdout",
     "output_type": "stream",
     "text": [
      "The animal makes a sound.\n",
      "The dog barks.\n"
     ]
    }
   ],
   "source": [
    "class Animal:\n",
    "    def speak(self):\n",
    "        print(\"The animal makes a sound.\")\n",
    "\n",
    "class Dog(Animal):\n",
    "    def speak(self):\n",
    "        print(\"The dog barks.\")\n",
    "\n",
    "a = Animal()\n",
    "a.speak()\n",
    "\n",
    "d = Dog()\n",
    "d.speak()\n",
    "\n",
    "\n",
    "# Without OverRiding\n",
    "# class Dog(Animal):\n",
    "#     pass\n",
    "\n",
    "# d = Dog()\n",
    "# d.speak()  # Output: The animal makes a sound\n",
    "# Dog doesn't override anything — it just inherits."
   ]
  },
  {
   "cell_type": "markdown",
   "id": "f13d8020-5da7-4d04-8517-4334e72b9e89",
   "metadata": {},
   "source": [
    "## ⚙️ 2. Using super() to Access Parent Method\n",
    "You can call the parent class method inside the overridden method using super()."
   ]
  },
  {
   "cell_type": "code",
   "execution_count": 2,
   "id": "3be4424f-9ad0-43ee-8453-a56de4c145be",
   "metadata": {},
   "outputs": [
    {
     "name": "stdout",
     "output_type": "stream",
     "text": [
      "The animal makes a sound.\n",
      "The dog barks.\n"
     ]
    }
   ],
   "source": [
    "class Animal:\n",
    "    def speak(self):\n",
    "        print(\"The animal makes a sound.\")\n",
    "\n",
    "class Dog(Animal):\n",
    "    def speak(self):\n",
    "        super().speak()    # call base class version\n",
    "        print(\"The dog barks.\")\n",
    "\n",
    "d = Dog()\n",
    "d.speak()"
   ]
  },
  {
   "cell_type": "markdown",
   "id": "b347d998-121b-405d-887e-7697f6505647",
   "metadata": {},
   "source": [
    "## 🔁 3. Overriding ___--init--___() Constructor\n",
    "Child classes often override the constructor and optionally call the parent constructor using super()."
   ]
  },
  {
   "cell_type": "code",
   "execution_count": 3,
   "id": "ee241fc5-e473-4100-a164-849d3a8f8028",
   "metadata": {},
   "outputs": [
    {
     "name": "stdout",
     "output_type": "stream",
     "text": [
      "Person: Alice\n",
      "Employee Role: Engineer\n"
     ]
    }
   ],
   "source": [
    "class Person:\n",
    "    def __init__(self, name):\n",
    "        self.name = name\n",
    "        print(f\"Person: {self.name}\")\n",
    "\n",
    "class Employee(Person):\n",
    "    def __init__(self, name, role):\n",
    "        super().__init__(name)\n",
    "        self.role = role\n",
    "        print(f\"Employee Role: {self.role}\")\n",
    "\n",
    "e = Employee(\"Alice\", \"Engineer\")"
   ]
  },
  {
   "cell_type": "markdown",
   "id": "080b21a0-7b2f-4fbb-abd0-dd27320f347d",
   "metadata": {},
   "source": [
    "## 🎭 4. Polymorphism via Overriding\n",
    "Multiple classes override the same method, enabling polymorphism."
   ]
  },
  {
   "cell_type": "code",
   "execution_count": 4,
   "id": "6478427f-b623-4dd1-a462-4bf68ba73027",
   "metadata": {},
   "outputs": [
    {
     "name": "stdout",
     "output_type": "stream",
     "text": [
      "Meow\n",
      "Bark\n"
     ]
    }
   ],
   "source": [
    "class Animal:\n",
    "    def speak(self):\n",
    "        print(\"Some generic sound\")\n",
    "\n",
    "class Cat(Animal):\n",
    "    def speak(self):\n",
    "        print(\"Meow\")\n",
    "\n",
    "class Dog(Animal):\n",
    "    def speak(self):\n",
    "        print(\"Bark\")\n",
    "\n",
    "# Polymorphism in action\n",
    "def animal_sound(animal):\n",
    "    animal.speak()\n",
    "\n",
    "animal_sound(Cat())  \n",
    "animal_sound(Dog())"
   ]
  },
  {
   "cell_type": "markdown",
   "id": "bed1194c-a7ef-4e1f-ae56-a4bc06617029",
   "metadata": {},
   "source": [
    "## 🧠 5. Advanced: Conditional Overriding with Custom Logic\n",
    "Override methods can also dynamically choose to invoke parent methods or not."
   ]
  },
  {
   "cell_type": "code",
   "execution_count": 5,
   "id": "fe7feaf1-aa05-4d5a-8221-b42dc3660216",
   "metadata": {},
   "outputs": [
    {
     "name": "stdout",
     "output_type": "stream",
     "text": [
      "LOG: Test message\n",
      "Writing 'Test message' to file.\n"
     ]
    }
   ],
   "source": [
    "class Logger:\n",
    "    def log(self, message):\n",
    "        print(f\"LOG: {message}\")\n",
    "\n",
    "class FileLogger(Logger):\n",
    "    def __init__(self, to_file=False):\n",
    "        self.to_file = to_file\n",
    "\n",
    "    def log(self, message):\n",
    "        if self.to_file:\n",
    "            print(f\"Writing '{message}' to file.\")\n",
    "        else:\n",
    "            super().log(message)\n",
    "\n",
    "logger = FileLogger()\n",
    "logger.log(\"Test message\")  # Falls back to base log()\n",
    "\n",
    "logger_file = FileLogger(to_file=True)\n",
    "logger_file.log(\"Test message\")    # Uses custom logic"
   ]
  },
  {
   "cell_type": "markdown",
   "id": "a8e58562-2138-4917-ba16-bf91c1dba027",
   "metadata": {},
   "source": [
    "## 🧪 6. Advanced: Overriding with Different Arguments (not true overloading)\n",
    "Python does not support method overloading, but you can override with default or *args/**kwargs."
   ]
  },
  {
   "cell_type": "code",
   "execution_count": 6,
   "id": "7f574d54-1f5a-47eb-a8a0-5b270085871a",
   "metadata": {},
   "outputs": [
    {
     "name": "stdout",
     "output_type": "stream",
     "text": [
      "15\n"
     ]
    }
   ],
   "source": [
    "class Shape:\n",
    "    def area(self):\n",
    "        return 0\n",
    "\n",
    "class Rectangle(Shape):\n",
    "    def area(self, width= 1, height= -1):\n",
    "        return width * height\n",
    "\n",
    "r = Rectangle()\n",
    "print(r.area(5, 3)) \n",
    "\n",
    "# Note: Technically, this is overriding with additional flexibility\n",
    "# using default values or variable arguments."
   ]
  },
  {
   "cell_type": "markdown",
   "id": "d222f33b-033a-45a1-9a64-aabc83753afe",
   "metadata": {},
   "source": [
    "## 🚀 7. Real-World Pattern: Abstract Base Class (ABC)\n",
    "Use abstract base classes when you want to enforce overriding."
   ]
  },
  {
   "cell_type": "code",
   "execution_count": 7,
   "id": "0be4f5db-b748-4c03-a191-80f6f850d5c2",
   "metadata": {},
   "outputs": [
    {
     "name": "stdout",
     "output_type": "stream",
     "text": [
      "Car engine started.\n"
     ]
    }
   ],
   "source": [
    "from abc import ABC, abstractmethod\n",
    "\n",
    "class Vehicle(ABC):\n",
    "    @abstractmethod\n",
    "    def start_engine(self):\n",
    "        pass\n",
    "\n",
    "class Car(Vehicle):\n",
    "    def start_engine(self):\n",
    "        print(\"Car engine started.\")\n",
    "\n",
    "# v = Vehicle()  #❌ TypeError: Can't instantiate abstract class Vehicle with abstract method start_engine\n",
    "c = Car()\n",
    "c.start_engine()   # ✅ Car engine started."
   ]
  },
  {
   "cell_type": "markdown",
   "id": "94e66ffb-a790-40f6-b7cd-90bc7f93939b",
   "metadata": {},
   "source": [
    "## 🚨 Key Points\n",
    "\n",
    "| Feature          | Description                                    |\n",
    "| ---------------- | ---------------------------------------------- |\n",
    "| Same method name | Must match exactly in child and parent.        |\n",
    "| Same parameters  | Usually the same or compatible arguments.      |\n",
    "| Same return type | Usually returns a similar type (not enforced). |\n",
    "| Purpose          | Customize inherited behavior.                  |\n"
   ]
  }
 ],
 "metadata": {
  "kernelspec": {
   "display_name": "Python 3 (ipykernel)",
   "language": "python",
   "name": "python3"
  },
  "language_info": {
   "codemirror_mode": {
    "name": "ipython",
    "version": 3
   },
   "file_extension": ".py",
   "mimetype": "text/x-python",
   "name": "python",
   "nbconvert_exporter": "python",
   "pygments_lexer": "ipython3",
   "version": "3.10.11"
  }
 },
 "nbformat": 4,
 "nbformat_minor": 5
}
