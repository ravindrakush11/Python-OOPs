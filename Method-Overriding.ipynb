{
 "cells": [
  {
   "cell_type": "markdown",
   "id": "39abdddc-cafc-4eea-89fd-31de9d3d1f08",
   "metadata": {},
   "source": [
    "### 🔁 What is **Method Overriding**?\n",
    "\n",
    "**Method overriding** is when a **child (subclass)** provides a **specific implementation** of a method that is **already defined** in its **parent (superclass)**.\n",
    "\n",
    "---\n",
    "\n",
    "### 🧠 Think of it like this:\n",
    "\n",
    "> A child class **replaces** or **customizes** a method it inherited from the parent class.\n",
    "\n",
    "---\n",
    "\n",
    "### ✅ Why use it?\n",
    "\n",
    "* To **change behavior** in the subclass.\n",
    "* To **extend** or **enhance** base class functionality.\n",
    "* To **implement polymorphism** (treat different objects the same way, but get different behaviors)."
   ]
  }
 ],
 "metadata": {
  "kernelspec": {
   "display_name": "Python 3 (ipykernel)",
   "language": "python",
   "name": "python3"
  },
  "language_info": {
   "codemirror_mode": {
    "name": "ipython",
    "version": 3
   },
   "file_extension": ".py",
   "mimetype": "text/x-python",
   "name": "python",
   "nbconvert_exporter": "python",
   "pygments_lexer": "ipython3",
   "version": "3.10.11"
  }
 },
 "nbformat": 4,
 "nbformat_minor": 5
}
