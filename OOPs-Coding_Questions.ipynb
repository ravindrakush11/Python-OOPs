{
 "cells": [
  {
   "cell_type": "markdown",
   "id": "7b801809-ef97-4f7c-8282-4ef5e3829c64",
   "metadata": {},
   "source": [
    "### 1. Create a class Person with attributes name and age. Write a method display() to print these details."
   ]
  },
  {
   "cell_type": "code",
   "execution_count": 56,
   "id": "b48eb8f8-5dba-44fa-9478-9e238c876f97",
   "metadata": {
    "scrolled": true
   },
   "outputs": [
    {
     "data": {
      "text/plain": [
       "'ravin'"
      ]
     },
     "metadata": {},
     "output_type": "display_data"
    },
    {
     "data": {
      "text/plain": [
       "34"
      ]
     },
     "metadata": {},
     "output_type": "display_data"
    }
   ],
   "source": [
    "class Person:\n",
    "    def __init__(self, name, age):\n",
    "        self.name = name\n",
    "        self.age = age\n",
    "\n",
    "# p = Person()    # Object of the Class\n",
    "p1 = Person('ravin', 34)\n",
    "display(p1.name, p1.age)\n",
    "\n",
    "\n",
    "class Person:\n",
    "    def display(self):\n",
    "        print(self.name, self.age)\n",
    "        "
   ]
  },
  {
   "cell_type": "markdown",
   "id": "30cace1b-5d46-47c2-9d8c-33190e60b89c",
   "metadata": {},
   "source": [
    "### 2. Define a class Rectangle that takes length and breadth and has a method area() that returns the area."
   ]
  },
  {
   "cell_type": "code",
   "execution_count": 37,
   "id": "c7f98c0c-a4b0-45c5-9a98-f7d3459ba9b5",
   "metadata": {},
   "outputs": [
    {
     "name": "stdout",
     "output_type": "stream",
     "text": [
      "100\n"
     ]
    }
   ],
   "source": [
    "class Rectangle:\n",
    "    def __init__(self, length, breadth):\n",
    "        self.length = length\n",
    "        self.breadth = breadth\n",
    "\n",
    "    def area(self):\n",
    "        area = self.length * self.breadth\n",
    "        return area\n",
    "\n",
    "r = Rectangle(10, 10)\n",
    "print(r.area())"
   ]
  },
  {
   "cell_type": "markdown",
   "id": "39a988b1-d9a3-4d48-8cb7-d9dbbfd38787",
   "metadata": {},
   "source": [
    "### 3. Create a class Car with attributes brand, model, and year. Instantiate two objects with different values and print their details."
   ]
  },
  {
   "cell_type": "code",
   "execution_count": 43,
   "id": "92e893aa-10c6-45c1-b23e-310a06653dd5",
   "metadata": {},
   "outputs": [
    {
     "name": "stdout",
     "output_type": "stream",
     "text": [
      "BMW GT35 2023\n",
      "Honda Elyven-21 2025\n"
     ]
    }
   ],
   "source": [
    "class Car:\n",
    "    def __init__(self, brand, model, year):\n",
    "        self.brand = brand\n",
    "        self.model = model\n",
    "        self.year = year\n",
    "\n",
    "c = Car(\"BMW\", 'GT35', 2023)\n",
    "print(c.brand, c.model, c.year)\n",
    "\n",
    "c1 = Car(\"Honda\", 'Elyven-21', 2025)\n",
    "print(c1.brand, c1.model, c1.year)"
   ]
  },
  {
   "cell_type": "markdown",
   "id": "3c505883-ae15-46f3-98c5-1b57b6259d74",
   "metadata": {},
   "source": [
    "### 4. Write a class Circle that takes a radius and computes area and circumference using class methods.\n",
    "c = 2*pi*r\n",
    "A = pi*r^2\n",
    "\n",
    "diameter = 2r"
   ]
  },
  {
   "cell_type": "code",
   "execution_count": 55,
   "id": "df648818-e5a7-4899-a446-d5aa57ae0dd8",
   "metadata": {},
   "outputs": [
    {
     "name": "stdout",
     "output_type": "stream",
     "text": [
      "Area: 28.259999999999998\n",
      "Circumference: 18.84\n",
      "Diameter: 6\n"
     ]
    }
   ],
   "source": [
    "class Circle:\n",
    "    def __init__(self, radius):\n",
    "        self.radius = radius\n",
    "\n",
    "    def area(self):\n",
    "        area = 3.14 * self.radius*self.radius\n",
    "        return area\n",
    "\n",
    "    def circumference(self):\n",
    "        cir = 2 * 3.14 * self.radius\n",
    "        return cir\n",
    "\n",
    "    def diameter(self):\n",
    "        d = 2 * self.radius\n",
    "        return d\n",
    "\n",
    "c1 = Circle(3)\n",
    "print(\"Area:\", c1.area())\n",
    "print(\"Circumference:\", c1.circumference())\n",
    "print(\"Diameter:\", c1.diameter())"
   ]
  },
  {
   "cell_type": "code",
   "execution_count": null,
   "id": "2436ed4f-c22f-41c0-8862-40e81427fa1c",
   "metadata": {},
   "outputs": [],
   "source": []
  },
  {
   "cell_type": "code",
   "execution_count": null,
   "id": "89edd126-b5a8-4329-89ef-e7860532d34f",
   "metadata": {},
   "outputs": [],
   "source": []
  },
  {
   "cell_type": "code",
   "execution_count": null,
   "id": "613440ec-63f5-4949-a8e5-a8af3526ad15",
   "metadata": {},
   "outputs": [],
   "source": []
  },
  {
   "cell_type": "code",
   "execution_count": null,
   "id": "f4fbd63a-4b03-4a06-93ba-ed030cab0463",
   "metadata": {},
   "outputs": [],
   "source": []
  },
  {
   "cell_type": "code",
   "execution_count": null,
   "id": "0d7652ac-d2a4-4fa6-bd69-29e9c366672c",
   "metadata": {},
   "outputs": [],
   "source": []
  },
  {
   "cell_type": "code",
   "execution_count": null,
   "id": "6beb3f73-0f64-4970-8df3-7a9d99594e23",
   "metadata": {},
   "outputs": [],
   "source": []
  },
  {
   "cell_type": "code",
   "execution_count": null,
   "id": "f00831b1-cf93-40de-94f7-1e2bf635407f",
   "metadata": {},
   "outputs": [],
   "source": []
  },
  {
   "cell_type": "code",
   "execution_count": null,
   "id": "08cd8b05-7493-40bc-a5d2-2738fd917963",
   "metadata": {},
   "outputs": [],
   "source": []
  },
  {
   "cell_type": "code",
   "execution_count": null,
   "id": "cdf46d98-b3e1-4cca-a26e-87989269ba06",
   "metadata": {},
   "outputs": [],
   "source": []
  }
 ],
 "metadata": {
  "kernelspec": {
   "display_name": "Python 3 (ipykernel)",
   "language": "python",
   "name": "python3"
  },
  "language_info": {
   "codemirror_mode": {
    "name": "ipython",
    "version": 3
   },
   "file_extension": ".py",
   "mimetype": "text/x-python",
   "name": "python",
   "nbconvert_exporter": "python",
   "pygments_lexer": "ipython3",
   "version": "3.10.11"
  }
 },
 "nbformat": 4,
 "nbformat_minor": 5
}
