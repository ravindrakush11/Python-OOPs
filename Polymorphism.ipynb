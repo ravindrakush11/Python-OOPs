{
 "cells": [
  {
   "cell_type": "markdown",
   "id": "6adcf362-00b2-4f21-890b-b971b009acad",
   "metadata": {},
   "source": [
    "# Polymorphism\n",
    "Polymorphism allows different classes to be treated through a common interface. In Python, this is mostly done through method overriding and duck typing.\n",
    "\n"
   ]
  },
  {
   "cell_type": "markdown",
   "id": "3666866c-e72f-4d35-9101-da8d3bd40f10",
   "metadata": {},
   "source": [
    "## ✅ 1. Basic Polymorphism via Common Method Name"
   ]
  },
  {
   "cell_type": "code",
   "execution_count": 1,
   "id": "db86a84f-66e9-42fa-962e-cc140a4b5b8e",
   "metadata": {},
   "outputs": [
    {
     "name": "stdout",
     "output_type": "stream",
     "text": [
      "Woof!\n",
      "Meow!\n"
     ]
    }
   ],
   "source": [
    "class Dog:\n",
    "    def speak(self):\n",
    "        return \"Woof!\"\n",
    "\n",
    "class Cat:\n",
    "    def speak(self):\n",
    "        return \"Meow!\"\n",
    "\n",
    "# Polymorphims in action\n",
    "animals = [Dog(), Cat()]\n",
    "\n",
    "for animal in animals:\n",
    "    print(animal.speak())\n",
    "\n",
    "# 📝 Explanation: Even though Dog and Cat are different classes, Python treats \n",
    "    # them the same because they both implement .speak()."
   ]
  },
  {
   "cell_type": "markdown",
   "id": "4df7eeee-ed05-4c3d-8440-d7db0e842a35",
   "metadata": {},
   "source": [
    "## ✅ 2. Polymorphism Using Functions"
   ]
  },
  {
   "cell_type": "code",
   "execution_count": 2,
   "id": "805fa74f-d8ed-4ecc-bab6-3a15064dd1be",
   "metadata": {},
   "outputs": [
    {
     "name": "stdout",
     "output_type": "stream",
     "text": [
      "Flying high!\n",
      "Flying with jet engines.\n"
     ]
    }
   ],
   "source": [
    "class Bird:\n",
    "    def fly(self):\n",
    "        return \"Flying high!\"\n",
    "\n",
    "class Airplane:\n",
    "    def fly(self):\n",
    "        return \"Flying with jet engines.\"\n",
    "\n",
    "def lets_fly(flyer):\n",
    "    print(flyer.fly())\n",
    "\n",
    "# Call with different object types\n",
    "lets_fly(Bird())\n",
    "lets_fly(Airplane())\n",
    "\n",
    "# 📝 Explanation: The lets_fly() function is polymorphic — it doesn't care what \n",
    "# type flyer is, just that it has a .fly() method."
   ]
  },
  {
   "cell_type": "markdown",
   "id": "1b314a9f-6e5f-4274-a1b5-e5abfa268241",
   "metadata": {},
   "source": [
    "## ✅ 3. Polymorphism With Inheritance and Method Overriding"
   ]
  },
  {
   "cell_type": "code",
   "execution_count": 3,
   "id": "a675c3eb-df16-440b-aa58-ee7bf2c11c06",
   "metadata": {},
   "outputs": [
    {
     "name": "stdout",
     "output_type": "stream",
     "text": [
      "Bark\n",
      "Meow\n"
     ]
    }
   ],
   "source": [
    "class Animal:\n",
    "    def speak(self):\n",
    "        return \"Some generic sound\"\n",
    "\n",
    "class Dog(Animal):\n",
    "    def speak(self):\n",
    "        return \"Bark\"\n",
    "\n",
    "class Cat(Animal):\n",
    "    def speak(self):\n",
    "        return \"Meow\"\n",
    "\n",
    "# Base class reference, but method calls overridden version\n",
    "def animal_sound(animal: Animal):\n",
    "    print(animal.speak())\n",
    "\n",
    "animal_sound(Dog())\n",
    "animal_sound(Cat())\n",
    "\n",
    "# 📝 Explanation: Method overriding ensures the child class’s version is used."
   ]
  },
  {
   "cell_type": "markdown",
   "id": "c6082d17-a96a-4caf-b124-90f0a5a7545f",
   "metadata": {},
   "source": [
    "## ✅ 4. Advanced: Duck Typing (No Inheritance Needed)"
   ]
  },
  {
   "cell_type": "code",
   "execution_count": 4,
   "id": "990f6fc2-7bb5-454a-9b94-8097f040cc3e",
   "metadata": {},
   "outputs": [
    {
     "name": "stdout",
     "output_type": "stream",
     "text": [
      "Reading data from a file\n",
      "Reading data from an API\n"
     ]
    }
   ],
   "source": [
    "class File:\n",
    "    def read(self):\n",
    "        print(\"Reading data from a file\")\n",
    "\n",
    "class WebAPI:\n",
    "    def read(self):\n",
    "        print(\"Reading data from an API\")\n",
    "\n",
    "def data_reader(source):\n",
    "    source.read()\n",
    "\n",
    "data_reader(File())\n",
    "data_reader(WebAPI())\n",
    "\n",
    "# 📝 Explanation: Python relies on object behavior, not type — this is \n",
    "# duck typing (\"If it reads like a duck...\")."
   ]
  },
  {
   "cell_type": "markdown",
   "id": "b76c2fd1-8851-42b6-9f87-23cad667ed8c",
   "metadata": {},
   "source": [
    "## ✅ 5. Bonus: Polymorphism + Abstract Base Classes (Enforcing Interface)"
   ]
  },
  {
   "cell_type": "code",
   "execution_count": 5,
   "id": "91eecd29-ea43-467a-8cb5-0574209098f5",
   "metadata": {},
   "outputs": [
    {
     "name": "stdout",
     "output_type": "stream",
     "text": [
      "12\n",
      "78.5\n"
     ]
    }
   ],
   "source": [
    "from abc import ABC, abstractmethod\n",
    "\n",
    "class Shape(ABC):\n",
    "    @abstractmethod\n",
    "    def area(self):\n",
    "        pass\n",
    "\n",
    "class Rectangle(Shape):\n",
    "    def __init__(self, w, h):\n",
    "        self.w = w\n",
    "        self.h = h\n",
    "\n",
    "    def area(self):\n",
    "        return self.w * self.h\n",
    "\n",
    "class Circle(Shape):\n",
    "    def __init__(self, r):\n",
    "        self.r = r\n",
    "\n",
    "    def area(self):\n",
    "        return 3.14 * self.r * self.r\n",
    "\n",
    "shapes = [Rectangle(3, 4), Circle(5)]\n",
    "for s in shapes:\n",
    "    print(s.area())\n",
    "\n",
    "# 📝 Explanation: This enforces that every subclass of Shape must define an \n",
    "# area() method — this is a more formal OOP approach."
   ]
  },
  {
   "cell_type": "code",
   "execution_count": null,
   "id": "d95379e9-19fd-4ce0-9f6a-e4e3e212e13d",
   "metadata": {},
   "outputs": [],
   "source": []
  },
  {
   "cell_type": "code",
   "execution_count": null,
   "id": "adbc0c09-111e-4a91-a7ba-e1d3557b2d16",
   "metadata": {},
   "outputs": [],
   "source": []
  },
  {
   "cell_type": "code",
   "execution_count": null,
   "id": "44471946-6888-422f-b5f7-ebf1e9512e24",
   "metadata": {},
   "outputs": [],
   "source": []
  },
  {
   "cell_type": "code",
   "execution_count": null,
   "id": "238f97d3-4160-4d62-a438-5c975d66fd83",
   "metadata": {},
   "outputs": [],
   "source": []
  },
  {
   "cell_type": "code",
   "execution_count": null,
   "id": "d66fc153-31d6-4144-90a2-18b2eee32af2",
   "metadata": {},
   "outputs": [],
   "source": []
  }
 ],
 "metadata": {
  "kernelspec": {
   "display_name": "Python 3 (ipykernel)",
   "language": "python",
   "name": "python3"
  },
  "language_info": {
   "codemirror_mode": {
    "name": "ipython",
    "version": 3
   },
   "file_extension": ".py",
   "mimetype": "text/x-python",
   "name": "python",
   "nbconvert_exporter": "python",
   "pygments_lexer": "ipython3",
   "version": "3.10.11"
  }
 },
 "nbformat": 4,
 "nbformat_minor": 5
}
