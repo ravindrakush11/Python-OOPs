{
 "cells": [
  {
   "cell_type": "code",
   "execution_count": 3,
   "id": "0f8b9030-60d6-4177-b7b6-590cf0e8ee5d",
   "metadata": {},
   "outputs": [
    {
     "name": "stdout",
     "output_type": "stream",
     "text": [
      "Makes a sound\n"
     ]
    }
   ],
   "source": [
    "# Basic Class and Object\n",
    "\n",
    "class Animal:\n",
    "    def sound(self):\n",
    "        print(\"Makes a sound\")\n",
    "dog = Animal()  # Object\n",
    "dog.sound()"
   ]
  },
  {
   "cell_type": "code",
   "execution_count": 4,
   "id": "78448e7d-ed34-4590-a556-906e598d8467",
   "metadata": {},
   "outputs": [
    {
     "name": "stdout",
     "output_type": "stream",
     "text": [
      "Alice 40\n"
     ]
    }
   ],
   "source": [
    "# Class with __init__ Constructor\n",
    "\n",
    "class Person:\n",
    "    def __init__(self, name, age):\n",
    "        self.name = name\n",
    "        self.age = age\n",
    "p = Person('Alice', 40)\n",
    "print(p.name, p.age)"
   ]
  },
  {
   "cell_type": "code",
   "execution_count": 6,
   "id": "9d427740-d349-434e-91c6-133cf2615750",
   "metadata": {},
   "outputs": [
    {
     "name": "stdout",
     "output_type": "stream",
     "text": [
      "Red 4\n"
     ]
    }
   ],
   "source": [
    "# Class with Class Variables and Instance Variables\n",
    "\n",
    "class Car:\n",
    "    wheels = 4   # Class variable\n",
    "    def __init__(self, color):\n",
    "        self.color = color  # Instance variable\n",
    "\n",
    "car1 = Car('Red')\n",
    "print(car1.color, Car.wheels)"
   ]
  },
  {
   "cell_type": "code",
   "execution_count": 8,
   "id": "93dac095-3938-4a76-9e57-fad0bb752bf5",
   "metadata": {},
   "outputs": [],
   "source": [
    "# Class with Methods (instance class, class, and static methods)\n",
    "class Student:\n",
    "    school = \"ABC School\"\n",
    "\n",
    "    def __init__(self, name):\n",
    "        self.name = name\n",
    "    def get_name(self):     # Instance method\n",
    "        return self.name\n",
    "\n",
    "    @classmethod\n",
    "    def get_school(cls):    # Class Method\n",
    "        return cls.school\n",
    "\n",
    "    @staticmethod\n",
    "    def greet():      # Static method\n",
    "        return 'Welcome!'"
   ]
  },
  {
   "cell_type": "code",
   "execution_count": 9,
   "id": "4185290c-a465-43f0-bdcc-d7c9cacdbcb2",
   "metadata": {},
   "outputs": [
    {
     "name": "stdout",
     "output_type": "stream",
     "text": [
      "Animal speaks\n",
      "Dog barks\n"
     ]
    }
   ],
   "source": [
    "# Class Inheritance (Single Inheritance)\n",
    "class Animal:\n",
    "    def speak(self):\n",
    "        print(\"Animal speaks\")\n",
    "\n",
    "class Dog(Animal):\n",
    "    def bark(self):\n",
    "        print(\"Dog barks\")\n",
    "\n",
    "d = Dog()\n",
    "d.speak()\n",
    "d.bark()"
   ]
  },
  {
   "cell_type": "code",
   "execution_count": 11,
   "id": "de814020-1e45-4354-95fa-6c7de1a531bb",
   "metadata": {},
   "outputs": [
    {
     "name": "stdout",
     "output_type": "stream",
     "text": [
      "Hello from Grandparent\n",
      "Hello from Parent\n",
      "Hello from Child\n"
     ]
    }
   ],
   "source": [
    "# Multilevel Inheritance\n",
    "class Grandparent:\n",
    "    def greet(self):\n",
    "        print(\"Hello from Grandparent\")\n",
    "\n",
    "class Parent(Grandparent):\n",
    "    def speak(self):\n",
    "        print(\"Hello from Parent\")\n",
    "\n",
    "class Child(Parent):\n",
    "    def play(self):\n",
    "        print(\"Hello from Child\")\n",
    "\n",
    "c = Child()\n",
    "c.greet()\n",
    "c.speak()\n",
    "c.play()"
   ]
  },
  {
   "cell_type": "code",
   "execution_count": 13,
   "id": "2f27eac9-b18f-4a66-a3a3-e9688ac9909d",
   "metadata": {},
   "outputs": [
    {
     "name": "stdout",
     "output_type": "stream",
     "text": [
      "A\n",
      "B\n"
     ]
    }
   ],
   "source": [
    "# Multiple Inheritance\n",
    "class A:\n",
    "    def show(self):\n",
    "        print(\"A\")\n",
    "class B:\n",
    "    def display(self):\n",
    "        print(\"B\")\n",
    "\n",
    "class C(A, B):\n",
    "    pass\n",
    "\n",
    "obj = C()\n",
    "obj.show()\n",
    "obj.display()"
   ]
  },
  {
   "cell_type": "code",
   "execution_count": 14,
   "id": "73abb317-e25d-45fe-9314-583ec31a4b18",
   "metadata": {},
   "outputs": [
    {
     "name": "stdout",
     "output_type": "stream",
     "text": [
      "1000\n"
     ]
    }
   ],
   "source": [
    "# Class with Encapsulation (Private Variables)\n",
    "class BankAccount:\n",
    "    def __init__(self, balance):\n",
    "        self.__balance = balance  # Private\n",
    "\n",
    "    def get_balance(self):\n",
    "        return self.__balance\n",
    "\n",
    "acc = BankAccount(1000)\n",
    "print(acc.get_balance())"
   ]
  },
  {
   "cell_type": "code",
   "execution_count": 15,
   "id": "f8272154-51eb-4505-af81-cd599b952e6c",
   "metadata": {},
   "outputs": [
    {
     "name": "stdout",
     "output_type": "stream",
     "text": [
      "Bird can fly\n",
      "Penguin can't really fly\n"
     ]
    }
   ],
   "source": [
    "# Class with Polymorphism\n",
    "class Bird:\n",
    "    def fly(self):\n",
    "        print(\"Bird can fly\")\n",
    "\n",
    "class Penguin(Bird):\n",
    "    def fly(self):\n",
    "        print(\"Penguin can't really fly\")\n",
    "\n",
    "def test_fly(bird):\n",
    "    bird.fly()\n",
    "\n",
    "test_fly(Bird())\n",
    "test_fly(Penguin())"
   ]
  },
  {
   "cell_type": "code",
   "execution_count": 16,
   "id": "397dcc8a-681c-4c58-ae14-39bd089aa7ba",
   "metadata": {},
   "outputs": [
    {
     "name": "stdout",
     "output_type": "stream",
     "text": [
      "78.5\n"
     ]
    }
   ],
   "source": [
    "# Abstract Base Class (ABC)\n",
    "from abc import ABC, abstractmethod\n",
    "\n",
    "class Shape(ABC):\n",
    "    @abstractmethod\n",
    "    def area(self):\n",
    "        pass\n",
    "        \n",
    "class Circle(Shape):\n",
    "    def area(self):\n",
    "        return 3.14 * 5 * 5\n",
    "\n",
    "c = Circle()\n",
    "print(c.area())"
   ]
  },
  {
   "cell_type": "code",
   "execution_count": 18,
   "id": "563111b4-c57e-4420-b10f-e5b822ce2fc0",
   "metadata": {},
   "outputs": [],
   "source": [
    "# Inner Class\n",
    "class Laptop:\n",
    "    def __init__(self):\n",
    "        self.brand = \"Dell\"\n",
    "        self.cpu = self.CPU()\n",
    "\n",
    "    class CPU:\n",
    "        def __init__(self):\n",
    "            self.cores = 4\n",
    "            self.brand = \"Intel\""
   ]
  },
  {
   "cell_type": "code",
   "execution_count": 19,
   "id": "649dd947-f839-4fb0-a0eb-ce6c9187cea2",
   "metadata": {},
   "outputs": [
    {
     "name": "stdout",
     "output_type": "stream",
     "text": [
      "4 6\n"
     ]
    }
   ],
   "source": [
    "# Class with Operator Overloading\n",
    "class Point:\n",
    "    def __init__(self, x, y):\n",
    "        self.x = x\n",
    "        self.y = y\n",
    "\n",
    "    def __add__(self, other):\n",
    "        return Point(self.x + other.x, self.y + other.y)\n",
    "\n",
    "p1 = Point(1, 2)\n",
    "p2 = Point(3, 4)\n",
    "p3 = p1 + p2\n",
    "print(p3.x, p3.y)"
   ]
  },
  {
   "cell_type": "code",
   "execution_count": 20,
   "id": "7ee6b733-a0e9-45b2-8fc6-2da37f70735b",
   "metadata": {},
   "outputs": [
    {
     "name": "stdout",
     "output_type": "stream",
     "text": [
      "Book(title='1984', author='Orwell', pages=328)\n"
     ]
    }
   ],
   "source": [
    "# Data Class\n",
    "from dataclasses import dataclass\n",
    "\n",
    "@dataclass\n",
    "class Book:\n",
    "    title: str\n",
    "    author: str\n",
    "    pages: int\n",
    "\n",
    "b = Book(\"1984\", \"Orwell\", 328)\n",
    "print(b)"
   ]
  },
  {
   "cell_type": "code",
   "execution_count": 22,
   "id": "2057cfe2-fbb6-43af-9ff2-018ead3de62d",
   "metadata": {},
   "outputs": [
    {
     "name": "stdout",
     "output_type": "stream",
     "text": [
      "True\n"
     ]
    }
   ],
   "source": [
    "# Singleton Class\n",
    "class Singleton:\n",
    "    _instance = None\n",
    "\n",
    "    def __new__(cls):\n",
    "        if cls._instance is None:\n",
    "            cls._instance = super(Singleton, cls).__new__(cls)\n",
    "        return cls._instance\n",
    "\n",
    "a = Singleton()\n",
    "b = Singleton()\n",
    "print(a is b)"
   ]
  },
  {
   "cell_type": "code",
   "execution_count": 23,
   "id": "e2e8f43a-3bbe-40bf-8532-f2ddb5df8863",
   "metadata": {},
   "outputs": [
    {
     "name": "stdout",
     "output_type": "stream",
     "text": [
      "1 2\n"
     ]
    }
   ],
   "source": [
    "# NamedTuple Class (from collections)\n",
    "\n",
    "from collections import namedtuple\n",
    "Point = namedtuple('Point', ['x', 'y'])\n",
    "p = Point(1, 2)\n",
    "print(p.x, p.y)"
   ]
  },
  {
   "cell_type": "code",
   "execution_count": 27,
   "id": "cdb5f792-07da-46bb-8b19-d758c16fe23a",
   "metadata": {},
   "outputs": [
    {
     "name": "stdout",
     "output_type": "stream",
     "text": [
      "1\n",
      "2\n",
      "3\n"
     ]
    }
   ],
   "source": [
    "# Class with Custom Iterators\n",
    "class Counter:\n",
    "    def __init__(self, max_val):\n",
    "        self.max = max_val\n",
    "        self.current = 0\n",
    "\n",
    "    def __iter__(self):\n",
    "        return self\n",
    "\n",
    "    def __next__(self):\n",
    "        if self.current < self.max:\n",
    "            self.current += 1\n",
    "            return self.current\n",
    "        else:\n",
    "            raise StopIteration\n",
    "\n",
    "c = Counter(3)\n",
    "for i in c:\n",
    "    print(i)"
   ]
  },
  {
   "cell_type": "code",
   "execution_count": null,
   "id": "5fdf8711-1d09-4810-948e-ab438deb43a9",
   "metadata": {},
   "outputs": [],
   "source": []
  }
 ],
 "metadata": {
  "kernelspec": {
   "display_name": "Python 3 (ipykernel)",
   "language": "python",
   "name": "python3"
  },
  "language_info": {
   "codemirror_mode": {
    "name": "ipython",
    "version": 3
   },
   "file_extension": ".py",
   "mimetype": "text/x-python",
   "name": "python",
   "nbconvert_exporter": "python",
   "pygments_lexer": "ipython3",
   "version": "3.10.11"
  }
 },
 "nbformat": 4,
 "nbformat_minor": 5
}
